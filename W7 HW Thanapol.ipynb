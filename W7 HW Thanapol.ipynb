{
 "cells": [
  {
   "cell_type": "markdown",
   "id": "dcc65c5e",
   "metadata": {},
   "source": [
    "#### Question 1:\n",
    "\n",
    "1.1 the key different between Simple Linear Regression and Multiple Linear Regression is simple linear regression focus on the relationship between one predictor or variable and an outcome, while multiple linear focus on multiple and how it can influence that outcome. Therefore, multiple linear regression is a more specific and complex calculation than simple linear regression corperating multiple indipendence variable.\n",
    "\n",
    "The MLR can be better while dealing with complex data since it allows us to explore the interaction effects between different predictors with more than one variables. It's more benefitial to use the MLR as it give a better fit and insights model that's more realistic in real-world scenarios where many outcomes are influenced by several factors simultaneously.\n",
    "\n",
    "1.2 in simple linear regression continuous variable refers to infinite numerical measure of real value while indicator variable only has two possible values (usually 0 or 1).\n",
    "\n",
    "The linear form for continuous Variable is Y=β0​+β1​X+ϵ\n",
    "\n",
    "The linear form for indicator variable is Y=β0​+β1​D+ϵ\n",
    "\n",
    "β0 is the intercept and β1 is the slope of the line while X is the continuous independent variable, and D is the dummy (indicator) variable (which can be 0 or 1), absent or present.\n",
    "\n",
    "continuous variables capture linear relationships based on continuous numeric values, while indicator variables capture differences between categories, leading to a shift in the regression line depending on whether the characteristic is present or absent (0, absent or 1, present).\n",
    "\n",
    "1.3 from the linear form of both continuous and indicator variable in previous question when a single indicator variable is introduced alongside a continuous variable to create a Multiple Linear Regression two of the equation add up together to create a new multiple linear regression form of \n",
    "\n",
    "Y=β0​+β1​X+β2​D+ϵ\n",
    "\n",
    "there is still only one β0 because there can only be one intercept while β1​X is continuous Variable β1(slope) and X (continuous independent variable) and β2​D is from indicator variable β2(slope of indicator linear form), D (dummy (indicator) 0,1) if D=0, then function β2​D will instently become 0 allow the model to follows the regression line given by β0​+β1​X or dependent by continuous function. if D=1 the model then follows a regression line given by β0​+β1​X+β2+ϵ, which is shifted by the value of β2 .\n",
    "\n",
    "1.4 the new linear form become Y=β0​+β1​X+β2​D+β3​(X⋅D)+ϵ\n",
    "\n",
    "when include an interaction term between the continuous variable 𝑋 X and the dummy variable D, the model allows the effect of 𝑋 X on the dependent variable to vary depending on the value of 𝐷 D. This means the relationship between 𝑋 X and the dependent variable is different for each group\n",
    "\n",
    "1.5 the linear form:Y=β0​+β1​D1​+β2​D2​+⋯+βk−1​Dk−1​+ϵ\n",
    "\n",
    "When a non-binary categorical variable is included in a Multiple Linear Regression model, it is converted into multiple binary indicator variables (one for each category except for the reference category). These indicator variables capture the differences between the categories, and the model estimates different intercepts (and possibly slopes) for each category. The result is a model that can account for different behaviors in the dependent variable for each category while avoiding perfect multicollinearity."
   ]
  },
  {
   "cell_type": "markdown",
   "id": "b5f843d8",
   "metadata": {},
   "source": [
    "### Here's a summary of our conversation (Question 1):\n",
    "\n",
    "1. **Simple vs. Multiple Linear Regression**: We discussed how **Simple Linear Regression** (SLR) models the relationship between a single predictor and the dependent variable, while **Multiple Linear Regression** (MLR) can model the effects of multiple predictors (both continuous and categorical). MLR allows for more complex relationships, such as interactions between predictors.\n",
    "\n",
    "2. **Continuous vs. Indicator Variables in SLR**: We explored the difference between using a **continuous variable** (which shows a continuous relationship with the dependent variable) and an **indicator variable** (which represents categorical data, taking values of 0 or 1) in Simple Linear Regression. Each has different interpretative and predictive roles in modeling.\n",
    "\n",
    "3. **Effect of Adding an Indicator in MLR**: Adding a single indicator variable alongside a continuous variable in MLR allows the model to estimate different relationships between the continuous predictor and the dependent variable for each group defined by the indicator variable. This results in different intercepts or slopes depending on the group.\n",
    "\n",
    "4. **Interaction Between Continuous and Indicator Variables**: Adding an **interaction term** between a continuous and an indicator variable in MLR enables the model to account for how the relationship between the continuous predictor and the dependent variable changes across different categories of the indicator variable. This allows for varying slopes for different groups.\n",
    "\n",
    "5. **Indicator Variables from Non-Binary Categorical Variables**: When a non-binary categorical variable (with more than two categories) is used in MLR, it is converted into multiple **binary indicator variables** (one for each category, except the reference category). These indicator variables capture the differences between the categories, and the model estimates how the dependent variable varies for each group relative to the reference category.\n",
    "\n",
    "In summary, we covered the mechanics of different regression models (SLR and MLR), how to handle continuous and categorical predictors, and the effect of interactions and dummy variables on the regression model.\n",
    "https://chatgpt.com/share/6736ad45-72d8-800e-8e0b-1bd6ce45048a"
   ]
  },
  {
   "cell_type": "markdown",
   "id": "7decd29b",
   "metadata": {},
   "source": [
    "#### Question 2: \n",
    "\n",
    "2.1 There are two formulas to make predictions of the outcome one with interaction and one without \n",
    "\n",
    "Prediction Using the Model Without Interaction:Effectiveness=β 0 ​ +β 1 ​ (TV Advertising)+β 2 ​ (Online Advertising)+ϵ\n",
    "\n",
    "Prediction Using the Model With Interaction:Effectiveness=β 0 ​ +β 1 ​ (TV Advertising)+β 2 ​ (Online Advertising)+β 3 ​ (TV Advertising×Online Advertising)+ϵ\n",
    "the effect of TV advertising is considered to depend on how much is spent on online advertising, and vice versa. \n",
    "β 3 ​ represents the interaction effect between TV and online advertising.\n",
    "\n",
    "the difference between the two model lie on whether the two predictors (TV and online advertising) are independently contribute to the effectiveness or dependent. With interaction mean the predictors dependent with each other.\n",
    "\n",
    "2.2 if the advertisement budgets are simply categorized as either \"high\" or \"low\" it's now indicator variable with two values where 0 is low and 1 is high.\n",
    "\n",
    "Without Interaction (Binary Predictors):Effectiveness=β 0 ​ +β 1 ​ (TV Advertising)+β 2 ​ (Online Advertising)+ϵ\n",
    "\n",
    "The predicted effectiveness is simply the sum of the effects of high budgets in each medium independently. There is no combined influence considered if both budgets are high; the prediction for \"both high\" is just the sum of the effects of each high budget. \n",
    "\n",
    "\n",
    "With Interaction (Binary Predictors):Effectiveness=β 0 ​ +β 1 ​ (TV Advertising)+β 2 ​ (Online Advertising)+β 3 ​ (TV Advertising×Online Advertising)+ϵ\n",
    "\n",
    "The model adds an additional term when both budgets are high, capturing a potential combined effect. This could lead to either a greater or lesser predicted effectiveness compared to the non-interaction model, depending on whether 𝛽 3 β 3 ​ is positive or negative. The model with interaction may therefore reflect a more nuanced prediction that aligns with cases where the combined impact of both high budgets is stronger (synergistic effect) or weaker (diminishing returns) than the sum of their separate effects."
   ]
  },
  {
   "cell_type": "markdown",
   "id": "681d5095",
   "metadata": {},
   "source": [
    "### Here's a summary of our conversation on (Question 2):\n",
    "\n",
    "1. **Scenario Overview:**\n",
    "   - The outcome variable is the **effectiveness of an advertising campaign** for a sports equipment company.\n",
    "   - The predictor variables are **TV advertising** and **online advertising** budgets, where an interaction effect may exist between them.\n",
    "\n",
    "2. **Formulas for Continuous Predictors:**\n",
    "   - **Without Interaction:** The effectiveness is modeled as a sum of independent contributions from TV and online advertising.\n",
    "     \\[\n",
    "     \\text{Effectiveness} = \\beta_0 + \\beta_1 (\\text{TV Advertising}) + \\beta_2 (\\text{Online Advertising}) + \\epsilon\n",
    "     \\]\n",
    "   - **With Interaction:** Adds an interaction term to capture combined effects.\n",
    "     \\[\n",
    "     \\text{Effectiveness} = \\beta_0 + \\beta_1 (\\text{TV Advertising}) + \\beta_2 (\\text{Online Advertising}) + \\beta_3 (\\text{TV Advertising} \\times \\text{Online Advertising}) + \\epsilon\n",
    "     \\]\n",
    "   - The model with interaction may produce different predictions, showing how the effects of TV and online advertising depend on each other.\n",
    "\n",
    "3. **Formulas for Categorical (Binary) Predictors:**\n",
    "   - When advertisement budgets are categorized as \"high\" or \"low\" (binary variables), the models update as follows:\n",
    "     - **Without Interaction (Binary Predictors):**\n",
    "       \\[\n",
    "       \\text{Effectiveness} = \\beta_0 + \\beta_1 (\\text{TV Advertising}) + \\beta_2 (\\text{Online Advertising}) + \\epsilon\n",
    "       \\]\n",
    "     - **With Interaction (Binary Predictors):**\n",
    "       \\[\n",
    "       \\text{Effectiveness} = \\beta_0 + \\beta_1 (\\text{TV Advertising}) + \\beta_2 (\\text{Online Advertising}) + \\beta_3 (\\text{TV Advertising} \\times \\text{Online Advertising}) + \\epsilon\n",
    "       \\]\n",
    "     - Here, \\(\\beta_3\\) captures the combined effect of both budgets being high.\n",
    "\n",
    "4. **Indicator Variable vs. Non-Binary Variable:**\n",
    "   - **Indicator variables** are binary, taking values 0 or 1 to represent two categories.\n",
    "   - **Non-binary variables** can have more than two values, including continuous or multi-category values.\n",
    "   \n",
    "   https://chatgpt.com/share/6736c363-90a4-800e-a6e0-40f547b2417c"
   ]
  },
  {
   "cell_type": "markdown",
   "id": "f368f763",
   "metadata": {},
   "source": [
    "#### Question 3:"
   ]
  },
  {
   "cell_type": "code",
   "execution_count": 9,
   "id": "f1a73c37",
   "metadata": {},
   "outputs": [
    {
     "name": "stdout",
     "output_type": "stream",
     "text": [
      "                            OLS Regression Results                            \n",
      "==============================================================================\n",
      "Dep. Variable:                Lottery   R-squared:                       0.338\n",
      "Model:                            OLS   Adj. R-squared:                  0.287\n",
      "Method:                 Least Squares   F-statistic:                     6.636\n",
      "Date:                Fri, 15 Nov 2024   Prob (F-statistic):           1.07e-05\n",
      "Time:                        03:59:15   Log-Likelihood:                -375.30\n",
      "No. Observations:                  85   AIC:                             764.6\n",
      "Df Residuals:                      78   BIC:                             781.7\n",
      "Df Model:                           6                                         \n",
      "Covariance Type:            nonrobust                                         \n",
      "===============================================================================\n",
      "                  coef    std err          t      P>|t|      [0.025      0.975]\n",
      "-------------------------------------------------------------------------------\n",
      "Intercept      38.6517      9.456      4.087      0.000      19.826      57.478\n",
      "Region[T.E]   -15.4278      9.727     -1.586      0.117     -34.793       3.938\n",
      "Region[T.N]   -10.0170      9.260     -1.082      0.283     -28.453       8.419\n",
      "Region[T.S]    -4.5483      7.279     -0.625      0.534     -19.039       9.943\n",
      "Region[T.W]   -10.0913      7.196     -1.402      0.165     -24.418       4.235\n",
      "Literacy       -0.1858      0.210     -0.886      0.378      -0.603       0.232\n",
      "Wealth          0.4515      0.103      4.390      0.000       0.247       0.656\n",
      "==============================================================================\n",
      "Omnibus:                        3.049   Durbin-Watson:                   1.785\n",
      "Prob(Omnibus):                  0.218   Jarque-Bera (JB):                2.694\n",
      "Skew:                          -0.340   Prob(JB):                        0.260\n",
      "Kurtosis:                       2.454   Cond. No.                         371.\n",
      "==============================================================================\n",
      "\n",
      "Notes:\n",
      "[1] Standard Errors assume that the covariance matrix of the errors is correctly specified.\n",
      "Intercept         38.651655\n",
      "C(Region)[T.E]   -15.427785\n",
      "C(Region)[T.N]   -10.016961\n",
      "C(Region)[T.S]    -4.548257\n",
      "C(Region)[T.W]   -10.091276\n",
      "Literacy          -0.185819\n",
      "Wealth             0.451475\n",
      "dtype: float64\n",
      "C(Region)[C]    38.651655\n",
      "C(Region)[E]    23.223870\n",
      "C(Region)[N]    28.634694\n",
      "C(Region)[S]    34.103399\n",
      "C(Region)[W]    28.560379\n",
      "Literacy        -0.185819\n",
      "Wealth           0.451475\n",
      "dtype: float64\n"
     ]
    }
   ],
   "source": [
    "In [1]: import statsmodels.api as sm\n",
    "\n",
    "In [2]: import statsmodels.formula.api as smf\n",
    "\n",
    "In [3]: import numpy as np\n",
    "\n",
    "In [4]: import pandas\n",
    "    \n",
    "In [5]: df = sm.datasets.get_rdataset(\"Guerry\", \"HistData\").data\n",
    "\n",
    "In [6]: df = df[['Lottery', 'Literacy', 'Wealth', 'Region']].dropna()\n",
    "\n",
    "In [7]: df.head()\n",
    "\n",
    "In [8]: mod = smf.ols(formula='Lottery ~ Literacy + Wealth + Region', data=df)\n",
    "\n",
    "In [9]: res = mod.fit()\n",
    "\n",
    "In [10]: print(res.summary())\n",
    "    \n",
    "In [11]: res = smf.ols(formula='Lottery ~ Literacy + Wealth + C(Region)', data=df).fit()\n",
    "\n",
    "In [12]: print(res.params)\n",
    "\n",
    "In [13]: res = smf.ols(formula='Lottery ~ Literacy + Wealth + C(Region) -1 ', data=df).fit()\n",
    "\n",
    "In [14]: print(res.params)"
   ]
  },
  {
   "cell_type": "markdown",
   "id": "b827e84a",
   "metadata": {},
   "source": [
    "3.3 looking at the data we can interpret and create the linear form. To predict, we can substitute values into the logistic regression equation just as if it were linear: Predicted log odds = 𝛽 0 + 𝛽 1 ⋅ Literacy + 𝛽 2 ⋅ Wealth + 𝛽 3 ⋅ Region Predicted log odds=β 0 ​ +β 1 ​ ⋅Literacy+β 2 ​ ⋅Wealth+β 3 ​ ⋅Region Interpreting this directly as probability (without transforming) is a rough approximation, but it lets us view each predictor’s influence linearly.\n",
    "\n",
    "3.4 In a logistic regression model, each predictor’s coefficient shows how it influences the likelihood of the outcome occurring. A positive coefficient means the predictor increases the chances of the outcome, while a negative coefficient lowers it. The p-value indicates significance: a low p-value (under 0.05) suggests the predictor has a meaningful impact. The standard error shows how precise each coefficient is, with smaller values indicating more confidence in that estimate. When categorical variables like `Region` are included, each category’s effect is compared to a baseline or can be treated as its own effect without a shared intercept. This summary lets us see which predictors significantly affect the probability of the outcome, helping to clarify important relationships in the data.\n"
   ]
  },
  {
   "cell_type": "code",
   "execution_count": 11,
   "id": "a6268f6f",
   "metadata": {},
   "outputs": [
    {
     "name": "stdout",
     "output_type": "stream",
     "text": [
      "Optimization terminated successfully.\n",
      "         Current function value: 0.587000\n",
      "         Iterations 5\n",
      "Optimization terminated successfully.\n",
      "         Current function value: 0.586956\n",
      "         Iterations 5\n"
     ]
    },
    {
     "data": {
      "application/vnd.plotly.v1+json": {
       "config": {
        "plotlyServerURL": "https://plot.ly"
       },
       "data": [
        {
         "marker": {
          "color": "blue"
         },
         "mode": "markers",
         "name": "Data",
         "type": "scatter",
         "x": [
          37,
          51,
          13,
          46,
          69,
          27,
          67,
          18,
          59,
          34,
          31,
          38,
          52,
          31,
          36,
          39,
          13,
          12,
          60,
          16,
          23,
          18,
          73,
          42,
          51,
          54,
          15,
          40,
          31,
          38,
          40,
          45,
          25,
          17,
          27,
          29,
          73,
          28,
          27,
          29,
          21,
          24,
          42,
          24,
          31,
          27,
          23,
          43,
          63,
          72,
          19,
          68,
          74,
          14,
          57,
          20,
          45,
          54,
          45,
          49,
          19,
          47,
          53,
          31,
          62,
          71,
          45,
          59,
          32,
          30,
          71,
          43,
          54,
          56,
          41,
          44,
          20,
          25,
          23,
          37,
          28,
          25,
          13,
          62,
          47
         ],
         "y": [
          0,
          0,
          1,
          1,
          1,
          1,
          0,
          1,
          0,
          1,
          1,
          0,
          0,
          1,
          1,
          0,
          1,
          1,
          0,
          1,
          1,
          1,
          0,
          1,
          1,
          1,
          0,
          0,
          0,
          1,
          0,
          0,
          0,
          1,
          0,
          0,
          0,
          1,
          1,
          0,
          1,
          0,
          0,
          1,
          1,
          1,
          0,
          1,
          0,
          1,
          1,
          0,
          1,
          0,
          0,
          1,
          0,
          0,
          1,
          0,
          1,
          0,
          1,
          0,
          0,
          0,
          0,
          1,
          1,
          1,
          0,
          0,
          0,
          0,
          1,
          0,
          1,
          1,
          0,
          0,
          1,
          0,
          1,
          0,
          1
         ]
        },
        {
         "line": {
          "color": "red"
         },
         "mode": "lines",
         "name": "Additive Best Fit Line",
         "type": "scatter",
         "x": [
          12,
          12.626262626262626,
          13.252525252525253,
          13.878787878787879,
          14.505050505050505,
          15.131313131313131,
          15.757575757575758,
          16.383838383838384,
          17.01010101010101,
          17.636363636363637,
          18.262626262626263,
          18.88888888888889,
          19.515151515151516,
          20.141414141414142,
          20.767676767676768,
          21.393939393939394,
          22.02020202020202,
          22.646464646464647,
          23.272727272727273,
          23.8989898989899,
          24.525252525252526,
          25.151515151515152,
          25.77777777777778,
          26.404040404040405,
          27.03030303030303,
          27.656565656565657,
          28.282828282828284,
          28.90909090909091,
          29.535353535353536,
          30.161616161616163,
          30.78787878787879,
          31.414141414141415,
          32.04040404040404,
          32.66666666666667,
          33.292929292929294,
          33.91919191919192,
          34.54545454545455,
          35.17171717171718,
          35.7979797979798,
          36.42424242424242,
          37.05050505050505,
          37.67676767676768,
          38.303030303030305,
          38.92929292929293,
          39.55555555555556,
          40.18181818181819,
          40.80808080808081,
          41.43434343434343,
          42.06060606060606,
          42.68686868686869,
          43.313131313131315,
          43.93939393939394,
          44.56565656565657,
          45.1919191919192,
          45.81818181818182,
          46.44444444444444,
          47.07070707070707,
          47.6969696969697,
          48.323232323232325,
          48.94949494949495,
          49.57575757575758,
          50.20202020202021,
          50.82828282828283,
          51.45454545454545,
          52.08080808080808,
          52.70707070707071,
          53.333333333333336,
          53.95959595959596,
          54.58585858585859,
          55.21212121212122,
          55.83838383838384,
          56.464646464646464,
          57.09090909090909,
          57.71717171717172,
          58.343434343434346,
          58.96969696969697,
          59.5959595959596,
          60.22222222222223,
          60.84848484848485,
          61.474747474747474,
          62.101010101010104,
          62.727272727272734,
          63.35353535353536,
          63.97979797979798,
          64.60606060606061,
          65.23232323232324,
          65.85858585858585,
          66.48484848484848,
          67.11111111111111,
          67.73737373737374,
          68.36363636363637,
          68.98989898989899,
          69.61616161616162,
          70.24242424242425,
          70.86868686868686,
          71.4949494949495,
          72.12121212121212,
          72.74747474747475,
          73.37373737373738,
          74
         ],
         "y": [
          0.7191113989292705,
          0.7145430454458591,
          0.709930362886267,
          0.7052738879956373,
          0.7005741901468205,
          0.69583187142385,
          0.6910475666601609,
          0.6862219434302979,
          0.6813557019939499,
          0.6764495751912477,
          0.6715043282883576,
          0.6665207587725233,
          0.6614996960958162,
          0.6564420013669822,
          0.6513485669908968,
          0.6462203162552794,
          0.641058202864448,
          0.6358632104200468,
          0.6306363518488173,
          0.6253786687776424,
          0.6200912308562345,
          0.6147751350280051,
          0.6094315047497993,
          0.6040614891613431,
          0.5986662622054035,
          0.5932470216998208,
          0.5878049883627257,
          0.5823414047924085,
          0.5768575344034561,
          0.5713546603209219,
          0.5658340842344322,
          0.5602971252142737,
          0.5547451184916383,
          0.5491794142053218,
          0.5436013761172986,
          0.5380123802997002,
          0.5324138137958272,
          0.5268070732579236,
          0.5211935635645177,
          0.5155746964202157,
          0.5099518889408946,
          0.5043265622272953,
          0.49870013993005846,
          0.49307404680927897,
          0.4874497072916733,
          0.48182854402846553,
          0.4762119764570899,
          0.47060141936980043,
          0.46499828149224753,
          0.45940396407504724,
          0.4538198595013201,
          0.44824734991311893,
          0.44268780585959566,
          0.43714258496967856,
          0.43161303065194184,
          0.42610047082425384,
          0.42060621667568143,
          0.41513156146301794,
          0.40967777934417476,
          0.4042461242505527,
          0.39883782880037466,
          0.39345410325481905,
          0.3880961345186492,
          0.3827650851868889,
          0.37746209263893765,
          0.37218826818136974,
          0.3669446962405014,
          0.3617324336056565,
          0.35655250872390293,
          0.3514059210468755,
          0.34629364043014393,
          0.3412166065854341,
          0.3361757285858563,
          0.3311718844241476,
          0.32620592062378967,
          0.32127865190272403,
          0.3163908608892481,
          0.3115432978895489,
          0.30673668070620136,
          0.30197169450683986,
          0.29724899174210084,
          0.2925691921118234,
          0.28793288257839744,
          0.2833406174260536,
          0.27879291836480524,
          0.27429027467767164,
          0.2698331434097399,
          0.26542194959755944,
          0.26105708653730614,
          0.2567389160900998,
          0.2524677690228206,
          0.2482439453827289,
          0.24406771490416865,
          0.23993931744560912,
          0.2358589634552641,
          0.23182683446352004,
          0.22784308360039907,
          0.22390783613628648,
          0.22002119004415951,
          0.21618321658156775
         ]
        }
       ],
       "layout": {
        "template": {
         "data": {
          "bar": [
           {
            "error_x": {
             "color": "#2a3f5f"
            },
            "error_y": {
             "color": "#2a3f5f"
            },
            "marker": {
             "line": {
              "color": "white",
              "width": 0.5
             },
             "pattern": {
              "fillmode": "overlay",
              "size": 10,
              "solidity": 0.2
             }
            },
            "type": "bar"
           }
          ],
          "barpolar": [
           {
            "marker": {
             "line": {
              "color": "white",
              "width": 0.5
             },
             "pattern": {
              "fillmode": "overlay",
              "size": 10,
              "solidity": 0.2
             }
            },
            "type": "barpolar"
           }
          ],
          "carpet": [
           {
            "aaxis": {
             "endlinecolor": "#2a3f5f",
             "gridcolor": "#C8D4E3",
             "linecolor": "#C8D4E3",
             "minorgridcolor": "#C8D4E3",
             "startlinecolor": "#2a3f5f"
            },
            "baxis": {
             "endlinecolor": "#2a3f5f",
             "gridcolor": "#C8D4E3",
             "linecolor": "#C8D4E3",
             "minorgridcolor": "#C8D4E3",
             "startlinecolor": "#2a3f5f"
            },
            "type": "carpet"
           }
          ],
          "choropleth": [
           {
            "colorbar": {
             "outlinewidth": 0,
             "ticks": ""
            },
            "type": "choropleth"
           }
          ],
          "contour": [
           {
            "colorbar": {
             "outlinewidth": 0,
             "ticks": ""
            },
            "colorscale": [
             [
              0,
              "#0d0887"
             ],
             [
              0.1111111111111111,
              "#46039f"
             ],
             [
              0.2222222222222222,
              "#7201a8"
             ],
             [
              0.3333333333333333,
              "#9c179e"
             ],
             [
              0.4444444444444444,
              "#bd3786"
             ],
             [
              0.5555555555555556,
              "#d8576b"
             ],
             [
              0.6666666666666666,
              "#ed7953"
             ],
             [
              0.7777777777777778,
              "#fb9f3a"
             ],
             [
              0.8888888888888888,
              "#fdca26"
             ],
             [
              1,
              "#f0f921"
             ]
            ],
            "type": "contour"
           }
          ],
          "contourcarpet": [
           {
            "colorbar": {
             "outlinewidth": 0,
             "ticks": ""
            },
            "type": "contourcarpet"
           }
          ],
          "heatmap": [
           {
            "colorbar": {
             "outlinewidth": 0,
             "ticks": ""
            },
            "colorscale": [
             [
              0,
              "#0d0887"
             ],
             [
              0.1111111111111111,
              "#46039f"
             ],
             [
              0.2222222222222222,
              "#7201a8"
             ],
             [
              0.3333333333333333,
              "#9c179e"
             ],
             [
              0.4444444444444444,
              "#bd3786"
             ],
             [
              0.5555555555555556,
              "#d8576b"
             ],
             [
              0.6666666666666666,
              "#ed7953"
             ],
             [
              0.7777777777777778,
              "#fb9f3a"
             ],
             [
              0.8888888888888888,
              "#fdca26"
             ],
             [
              1,
              "#f0f921"
             ]
            ],
            "type": "heatmap"
           }
          ],
          "heatmapgl": [
           {
            "colorbar": {
             "outlinewidth": 0,
             "ticks": ""
            },
            "colorscale": [
             [
              0,
              "#0d0887"
             ],
             [
              0.1111111111111111,
              "#46039f"
             ],
             [
              0.2222222222222222,
              "#7201a8"
             ],
             [
              0.3333333333333333,
              "#9c179e"
             ],
             [
              0.4444444444444444,
              "#bd3786"
             ],
             [
              0.5555555555555556,
              "#d8576b"
             ],
             [
              0.6666666666666666,
              "#ed7953"
             ],
             [
              0.7777777777777778,
              "#fb9f3a"
             ],
             [
              0.8888888888888888,
              "#fdca26"
             ],
             [
              1,
              "#f0f921"
             ]
            ],
            "type": "heatmapgl"
           }
          ],
          "histogram": [
           {
            "marker": {
             "pattern": {
              "fillmode": "overlay",
              "size": 10,
              "solidity": 0.2
             }
            },
            "type": "histogram"
           }
          ],
          "histogram2d": [
           {
            "colorbar": {
             "outlinewidth": 0,
             "ticks": ""
            },
            "colorscale": [
             [
              0,
              "#0d0887"
             ],
             [
              0.1111111111111111,
              "#46039f"
             ],
             [
              0.2222222222222222,
              "#7201a8"
             ],
             [
              0.3333333333333333,
              "#9c179e"
             ],
             [
              0.4444444444444444,
              "#bd3786"
             ],
             [
              0.5555555555555556,
              "#d8576b"
             ],
             [
              0.6666666666666666,
              "#ed7953"
             ],
             [
              0.7777777777777778,
              "#fb9f3a"
             ],
             [
              0.8888888888888888,
              "#fdca26"
             ],
             [
              1,
              "#f0f921"
             ]
            ],
            "type": "histogram2d"
           }
          ],
          "histogram2dcontour": [
           {
            "colorbar": {
             "outlinewidth": 0,
             "ticks": ""
            },
            "colorscale": [
             [
              0,
              "#0d0887"
             ],
             [
              0.1111111111111111,
              "#46039f"
             ],
             [
              0.2222222222222222,
              "#7201a8"
             ],
             [
              0.3333333333333333,
              "#9c179e"
             ],
             [
              0.4444444444444444,
              "#bd3786"
             ],
             [
              0.5555555555555556,
              "#d8576b"
             ],
             [
              0.6666666666666666,
              "#ed7953"
             ],
             [
              0.7777777777777778,
              "#fb9f3a"
             ],
             [
              0.8888888888888888,
              "#fdca26"
             ],
             [
              1,
              "#f0f921"
             ]
            ],
            "type": "histogram2dcontour"
           }
          ],
          "mesh3d": [
           {
            "colorbar": {
             "outlinewidth": 0,
             "ticks": ""
            },
            "type": "mesh3d"
           }
          ],
          "parcoords": [
           {
            "line": {
             "colorbar": {
              "outlinewidth": 0,
              "ticks": ""
             }
            },
            "type": "parcoords"
           }
          ],
          "pie": [
           {
            "automargin": true,
            "type": "pie"
           }
          ],
          "scatter": [
           {
            "fillpattern": {
             "fillmode": "overlay",
             "size": 10,
             "solidity": 0.2
            },
            "type": "scatter"
           }
          ],
          "scatter3d": [
           {
            "line": {
             "colorbar": {
              "outlinewidth": 0,
              "ticks": ""
             }
            },
            "marker": {
             "colorbar": {
              "outlinewidth": 0,
              "ticks": ""
             }
            },
            "type": "scatter3d"
           }
          ],
          "scattercarpet": [
           {
            "marker": {
             "colorbar": {
              "outlinewidth": 0,
              "ticks": ""
             }
            },
            "type": "scattercarpet"
           }
          ],
          "scattergeo": [
           {
            "marker": {
             "colorbar": {
              "outlinewidth": 0,
              "ticks": ""
             }
            },
            "type": "scattergeo"
           }
          ],
          "scattergl": [
           {
            "marker": {
             "colorbar": {
              "outlinewidth": 0,
              "ticks": ""
             }
            },
            "type": "scattergl"
           }
          ],
          "scattermapbox": [
           {
            "marker": {
             "colorbar": {
              "outlinewidth": 0,
              "ticks": ""
             }
            },
            "type": "scattermapbox"
           }
          ],
          "scatterpolar": [
           {
            "marker": {
             "colorbar": {
              "outlinewidth": 0,
              "ticks": ""
             }
            },
            "type": "scatterpolar"
           }
          ],
          "scatterpolargl": [
           {
            "marker": {
             "colorbar": {
              "outlinewidth": 0,
              "ticks": ""
             }
            },
            "type": "scatterpolargl"
           }
          ],
          "scatterternary": [
           {
            "marker": {
             "colorbar": {
              "outlinewidth": 0,
              "ticks": ""
             }
            },
            "type": "scatterternary"
           }
          ],
          "surface": [
           {
            "colorbar": {
             "outlinewidth": 0,
             "ticks": ""
            },
            "colorscale": [
             [
              0,
              "#0d0887"
             ],
             [
              0.1111111111111111,
              "#46039f"
             ],
             [
              0.2222222222222222,
              "#7201a8"
             ],
             [
              0.3333333333333333,
              "#9c179e"
             ],
             [
              0.4444444444444444,
              "#bd3786"
             ],
             [
              0.5555555555555556,
              "#d8576b"
             ],
             [
              0.6666666666666666,
              "#ed7953"
             ],
             [
              0.7777777777777778,
              "#fb9f3a"
             ],
             [
              0.8888888888888888,
              "#fdca26"
             ],
             [
              1,
              "#f0f921"
             ]
            ],
            "type": "surface"
           }
          ],
          "table": [
           {
            "cells": {
             "fill": {
              "color": "#EBF0F8"
             },
             "line": {
              "color": "white"
             }
            },
            "header": {
             "fill": {
              "color": "#C8D4E3"
             },
             "line": {
              "color": "white"
             }
            },
            "type": "table"
           }
          ]
         },
         "layout": {
          "annotationdefaults": {
           "arrowcolor": "#2a3f5f",
           "arrowhead": 0,
           "arrowwidth": 1
          },
          "autotypenumbers": "strict",
          "coloraxis": {
           "colorbar": {
            "outlinewidth": 0,
            "ticks": ""
           }
          },
          "colorscale": {
           "diverging": [
            [
             0,
             "#8e0152"
            ],
            [
             0.1,
             "#c51b7d"
            ],
            [
             0.2,
             "#de77ae"
            ],
            [
             0.3,
             "#f1b6da"
            ],
            [
             0.4,
             "#fde0ef"
            ],
            [
             0.5,
             "#f7f7f7"
            ],
            [
             0.6,
             "#e6f5d0"
            ],
            [
             0.7,
             "#b8e186"
            ],
            [
             0.8,
             "#7fbc41"
            ],
            [
             0.9,
             "#4d9221"
            ],
            [
             1,
             "#276419"
            ]
           ],
           "sequential": [
            [
             0,
             "#0d0887"
            ],
            [
             0.1111111111111111,
             "#46039f"
            ],
            [
             0.2222222222222222,
             "#7201a8"
            ],
            [
             0.3333333333333333,
             "#9c179e"
            ],
            [
             0.4444444444444444,
             "#bd3786"
            ],
            [
             0.5555555555555556,
             "#d8576b"
            ],
            [
             0.6666666666666666,
             "#ed7953"
            ],
            [
             0.7777777777777778,
             "#fb9f3a"
            ],
            [
             0.8888888888888888,
             "#fdca26"
            ],
            [
             1,
             "#f0f921"
            ]
           ],
           "sequentialminus": [
            [
             0,
             "#0d0887"
            ],
            [
             0.1111111111111111,
             "#46039f"
            ],
            [
             0.2222222222222222,
             "#7201a8"
            ],
            [
             0.3333333333333333,
             "#9c179e"
            ],
            [
             0.4444444444444444,
             "#bd3786"
            ],
            [
             0.5555555555555556,
             "#d8576b"
            ],
            [
             0.6666666666666666,
             "#ed7953"
            ],
            [
             0.7777777777777778,
             "#fb9f3a"
            ],
            [
             0.8888888888888888,
             "#fdca26"
            ],
            [
             1,
             "#f0f921"
            ]
           ]
          },
          "colorway": [
           "#636efa",
           "#EF553B",
           "#00cc96",
           "#ab63fa",
           "#FFA15A",
           "#19d3f3",
           "#FF6692",
           "#B6E880",
           "#FF97FF",
           "#FECB52"
          ],
          "font": {
           "color": "#2a3f5f"
          },
          "geo": {
           "bgcolor": "white",
           "lakecolor": "white",
           "landcolor": "white",
           "showlakes": true,
           "showland": true,
           "subunitcolor": "#C8D4E3"
          },
          "hoverlabel": {
           "align": "left"
          },
          "hovermode": "closest",
          "mapbox": {
           "style": "light"
          },
          "paper_bgcolor": "white",
          "plot_bgcolor": "white",
          "polar": {
           "angularaxis": {
            "gridcolor": "#EBF0F8",
            "linecolor": "#EBF0F8",
            "ticks": ""
           },
           "bgcolor": "white",
           "radialaxis": {
            "gridcolor": "#EBF0F8",
            "linecolor": "#EBF0F8",
            "ticks": ""
           }
          },
          "scene": {
           "xaxis": {
            "backgroundcolor": "white",
            "gridcolor": "#DFE8F3",
            "gridwidth": 2,
            "linecolor": "#EBF0F8",
            "showbackground": true,
            "ticks": "",
            "zerolinecolor": "#EBF0F8"
           },
           "yaxis": {
            "backgroundcolor": "white",
            "gridcolor": "#DFE8F3",
            "gridwidth": 2,
            "linecolor": "#EBF0F8",
            "showbackground": true,
            "ticks": "",
            "zerolinecolor": "#EBF0F8"
           },
           "zaxis": {
            "backgroundcolor": "white",
            "gridcolor": "#DFE8F3",
            "gridwidth": 2,
            "linecolor": "#EBF0F8",
            "showbackground": true,
            "ticks": "",
            "zerolinecolor": "#EBF0F8"
           }
          },
          "shapedefaults": {
           "line": {
            "color": "#2a3f5f"
           }
          },
          "ternary": {
           "aaxis": {
            "gridcolor": "#DFE8F3",
            "linecolor": "#A2B1C6",
            "ticks": ""
           },
           "baxis": {
            "gridcolor": "#DFE8F3",
            "linecolor": "#A2B1C6",
            "ticks": ""
           },
           "bgcolor": "white",
           "caxis": {
            "gridcolor": "#DFE8F3",
            "linecolor": "#A2B1C6",
            "ticks": ""
           }
          },
          "title": {
           "x": 0.05
          },
          "xaxis": {
           "automargin": true,
           "gridcolor": "#EBF0F8",
           "linecolor": "#EBF0F8",
           "ticks": "",
           "title": {
            "standoff": 15
           },
           "zerolinecolor": "#EBF0F8",
           "zerolinewidth": 2
          },
          "yaxis": {
           "automargin": true,
           "gridcolor": "#EBF0F8",
           "linecolor": "#EBF0F8",
           "ticks": "",
           "title": {
            "standoff": 15
           },
           "zerolinecolor": "#EBF0F8",
           "zerolinewidth": 2
          }
         }
        },
        "title": {
         "text": "Additive Model: Literacy + Wealth"
        },
        "xaxis": {
         "title": {
          "text": "Literacy"
         }
        },
        "yaxis": {
         "title": {
          "text": "Probability of Lottery Participation"
         }
        }
       }
      },
      "text/html": [
       "<div>                            <div id=\"eaf14a83-a166-44ed-a089-42add043b211\" class=\"plotly-graph-div\" style=\"height:525px; width:100%;\"></div>            <script type=\"text/javascript\">                require([\"plotly\"], function(Plotly) {                    window.PLOTLYENV=window.PLOTLYENV || {};                                    if (document.getElementById(\"eaf14a83-a166-44ed-a089-42add043b211\")) {                    Plotly.newPlot(                        \"eaf14a83-a166-44ed-a089-42add043b211\",                        [{\"marker\":{\"color\":\"blue\"},\"mode\":\"markers\",\"name\":\"Data\",\"x\":[37,51,13,46,69,27,67,18,59,34,31,38,52,31,36,39,13,12,60,16,23,18,73,42,51,54,15,40,31,38,40,45,25,17,27,29,73,28,27,29,21,24,42,24,31,27,23,43,63,72,19,68,74,14,57,20,45,54,45,49,19,47,53,31,62,71,45,59,32,30,71,43,54,56,41,44,20,25,23,37,28,25,13,62,47],\"y\":[0,0,1,1,1,1,0,1,0,1,1,0,0,1,1,0,1,1,0,1,1,1,0,1,1,1,0,0,0,1,0,0,0,1,0,0,0,1,1,0,1,0,0,1,1,1,0,1,0,1,1,0,1,0,0,1,0,0,1,0,1,0,1,0,0,0,0,1,1,1,0,0,0,0,1,0,1,1,0,0,1,0,1,0,1],\"type\":\"scatter\"},{\"line\":{\"color\":\"red\"},\"mode\":\"lines\",\"name\":\"Additive Best Fit Line\",\"x\":[12.0,12.626262626262626,13.252525252525253,13.878787878787879,14.505050505050505,15.131313131313131,15.757575757575758,16.383838383838384,17.01010101010101,17.636363636363637,18.262626262626263,18.88888888888889,19.515151515151516,20.141414141414142,20.767676767676768,21.393939393939394,22.02020202020202,22.646464646464647,23.272727272727273,23.8989898989899,24.525252525252526,25.151515151515152,25.77777777777778,26.404040404040405,27.03030303030303,27.656565656565657,28.282828282828284,28.90909090909091,29.535353535353536,30.161616161616163,30.78787878787879,31.414141414141415,32.04040404040404,32.66666666666667,33.292929292929294,33.91919191919192,34.54545454545455,35.17171717171718,35.7979797979798,36.42424242424242,37.05050505050505,37.67676767676768,38.303030303030305,38.92929292929293,39.55555555555556,40.18181818181819,40.80808080808081,41.43434343434343,42.06060606060606,42.68686868686869,43.313131313131315,43.93939393939394,44.56565656565657,45.1919191919192,45.81818181818182,46.44444444444444,47.07070707070707,47.6969696969697,48.323232323232325,48.94949494949495,49.57575757575758,50.20202020202021,50.82828282828283,51.45454545454545,52.08080808080808,52.70707070707071,53.333333333333336,53.95959595959596,54.58585858585859,55.21212121212122,55.83838383838384,56.464646464646464,57.09090909090909,57.71717171717172,58.343434343434346,58.96969696969697,59.5959595959596,60.22222222222223,60.84848484848485,61.474747474747474,62.101010101010104,62.727272727272734,63.35353535353536,63.97979797979798,64.60606060606061,65.23232323232324,65.85858585858585,66.48484848484848,67.11111111111111,67.73737373737374,68.36363636363637,68.98989898989899,69.61616161616162,70.24242424242425,70.86868686868686,71.4949494949495,72.12121212121212,72.74747474747475,73.37373737373738,74.0],\"y\":[0.7191113989292705,0.7145430454458591,0.709930362886267,0.7052738879956373,0.7005741901468205,0.69583187142385,0.6910475666601609,0.6862219434302979,0.6813557019939499,0.6764495751912477,0.6715043282883576,0.6665207587725233,0.6614996960958162,0.6564420013669822,0.6513485669908968,0.6462203162552794,0.641058202864448,0.6358632104200468,0.6306363518488173,0.6253786687776424,0.6200912308562345,0.6147751350280051,0.6094315047497993,0.6040614891613431,0.5986662622054035,0.5932470216998208,0.5878049883627257,0.5823414047924085,0.5768575344034561,0.5713546603209219,0.5658340842344322,0.5602971252142737,0.5547451184916383,0.5491794142053218,0.5436013761172986,0.5380123802997002,0.5324138137958272,0.5268070732579236,0.5211935635645177,0.5155746964202157,0.5099518889408946,0.5043265622272953,0.49870013993005846,0.49307404680927897,0.4874497072916733,0.48182854402846553,0.4762119764570899,0.47060141936980043,0.46499828149224753,0.45940396407504724,0.4538198595013201,0.44824734991311893,0.44268780585959566,0.43714258496967856,0.43161303065194184,0.42610047082425384,0.42060621667568143,0.41513156146301794,0.40967777934417476,0.4042461242505527,0.39883782880037466,0.39345410325481905,0.3880961345186492,0.3827650851868889,0.37746209263893765,0.37218826818136974,0.3669446962405014,0.3617324336056565,0.35655250872390293,0.3514059210468755,0.34629364043014393,0.3412166065854341,0.3361757285858563,0.3311718844241476,0.32620592062378967,0.32127865190272403,0.3163908608892481,0.3115432978895489,0.30673668070620136,0.30197169450683986,0.29724899174210084,0.2925691921118234,0.28793288257839744,0.2833406174260536,0.27879291836480524,0.27429027467767164,0.2698331434097399,0.26542194959755944,0.26105708653730614,0.2567389160900998,0.2524677690228206,0.2482439453827289,0.24406771490416865,0.23993931744560912,0.2358589634552641,0.23182683446352004,0.22784308360039907,0.22390783613628648,0.22002119004415951,0.21618321658156775],\"type\":\"scatter\"}],                        {\"template\":{\"data\":{\"barpolar\":[{\"marker\":{\"line\":{\"color\":\"white\",\"width\":0.5},\"pattern\":{\"fillmode\":\"overlay\",\"size\":10,\"solidity\":0.2}},\"type\":\"barpolar\"}],\"bar\":[{\"error_x\":{\"color\":\"#2a3f5f\"},\"error_y\":{\"color\":\"#2a3f5f\"},\"marker\":{\"line\":{\"color\":\"white\",\"width\":0.5},\"pattern\":{\"fillmode\":\"overlay\",\"size\":10,\"solidity\":0.2}},\"type\":\"bar\"}],\"carpet\":[{\"aaxis\":{\"endlinecolor\":\"#2a3f5f\",\"gridcolor\":\"#C8D4E3\",\"linecolor\":\"#C8D4E3\",\"minorgridcolor\":\"#C8D4E3\",\"startlinecolor\":\"#2a3f5f\"},\"baxis\":{\"endlinecolor\":\"#2a3f5f\",\"gridcolor\":\"#C8D4E3\",\"linecolor\":\"#C8D4E3\",\"minorgridcolor\":\"#C8D4E3\",\"startlinecolor\":\"#2a3f5f\"},\"type\":\"carpet\"}],\"choropleth\":[{\"colorbar\":{\"outlinewidth\":0,\"ticks\":\"\"},\"type\":\"choropleth\"}],\"contourcarpet\":[{\"colorbar\":{\"outlinewidth\":0,\"ticks\":\"\"},\"type\":\"contourcarpet\"}],\"contour\":[{\"colorbar\":{\"outlinewidth\":0,\"ticks\":\"\"},\"colorscale\":[[0.0,\"#0d0887\"],[0.1111111111111111,\"#46039f\"],[0.2222222222222222,\"#7201a8\"],[0.3333333333333333,\"#9c179e\"],[0.4444444444444444,\"#bd3786\"],[0.5555555555555556,\"#d8576b\"],[0.6666666666666666,\"#ed7953\"],[0.7777777777777778,\"#fb9f3a\"],[0.8888888888888888,\"#fdca26\"],[1.0,\"#f0f921\"]],\"type\":\"contour\"}],\"heatmapgl\":[{\"colorbar\":{\"outlinewidth\":0,\"ticks\":\"\"},\"colorscale\":[[0.0,\"#0d0887\"],[0.1111111111111111,\"#46039f\"],[0.2222222222222222,\"#7201a8\"],[0.3333333333333333,\"#9c179e\"],[0.4444444444444444,\"#bd3786\"],[0.5555555555555556,\"#d8576b\"],[0.6666666666666666,\"#ed7953\"],[0.7777777777777778,\"#fb9f3a\"],[0.8888888888888888,\"#fdca26\"],[1.0,\"#f0f921\"]],\"type\":\"heatmapgl\"}],\"heatmap\":[{\"colorbar\":{\"outlinewidth\":0,\"ticks\":\"\"},\"colorscale\":[[0.0,\"#0d0887\"],[0.1111111111111111,\"#46039f\"],[0.2222222222222222,\"#7201a8\"],[0.3333333333333333,\"#9c179e\"],[0.4444444444444444,\"#bd3786\"],[0.5555555555555556,\"#d8576b\"],[0.6666666666666666,\"#ed7953\"],[0.7777777777777778,\"#fb9f3a\"],[0.8888888888888888,\"#fdca26\"],[1.0,\"#f0f921\"]],\"type\":\"heatmap\"}],\"histogram2dcontour\":[{\"colorbar\":{\"outlinewidth\":0,\"ticks\":\"\"},\"colorscale\":[[0.0,\"#0d0887\"],[0.1111111111111111,\"#46039f\"],[0.2222222222222222,\"#7201a8\"],[0.3333333333333333,\"#9c179e\"],[0.4444444444444444,\"#bd3786\"],[0.5555555555555556,\"#d8576b\"],[0.6666666666666666,\"#ed7953\"],[0.7777777777777778,\"#fb9f3a\"],[0.8888888888888888,\"#fdca26\"],[1.0,\"#f0f921\"]],\"type\":\"histogram2dcontour\"}],\"histogram2d\":[{\"colorbar\":{\"outlinewidth\":0,\"ticks\":\"\"},\"colorscale\":[[0.0,\"#0d0887\"],[0.1111111111111111,\"#46039f\"],[0.2222222222222222,\"#7201a8\"],[0.3333333333333333,\"#9c179e\"],[0.4444444444444444,\"#bd3786\"],[0.5555555555555556,\"#d8576b\"],[0.6666666666666666,\"#ed7953\"],[0.7777777777777778,\"#fb9f3a\"],[0.8888888888888888,\"#fdca26\"],[1.0,\"#f0f921\"]],\"type\":\"histogram2d\"}],\"histogram\":[{\"marker\":{\"pattern\":{\"fillmode\":\"overlay\",\"size\":10,\"solidity\":0.2}},\"type\":\"histogram\"}],\"mesh3d\":[{\"colorbar\":{\"outlinewidth\":0,\"ticks\":\"\"},\"type\":\"mesh3d\"}],\"parcoords\":[{\"line\":{\"colorbar\":{\"outlinewidth\":0,\"ticks\":\"\"}},\"type\":\"parcoords\"}],\"pie\":[{\"automargin\":true,\"type\":\"pie\"}],\"scatter3d\":[{\"line\":{\"colorbar\":{\"outlinewidth\":0,\"ticks\":\"\"}},\"marker\":{\"colorbar\":{\"outlinewidth\":0,\"ticks\":\"\"}},\"type\":\"scatter3d\"}],\"scattercarpet\":[{\"marker\":{\"colorbar\":{\"outlinewidth\":0,\"ticks\":\"\"}},\"type\":\"scattercarpet\"}],\"scattergeo\":[{\"marker\":{\"colorbar\":{\"outlinewidth\":0,\"ticks\":\"\"}},\"type\":\"scattergeo\"}],\"scattergl\":[{\"marker\":{\"colorbar\":{\"outlinewidth\":0,\"ticks\":\"\"}},\"type\":\"scattergl\"}],\"scattermapbox\":[{\"marker\":{\"colorbar\":{\"outlinewidth\":0,\"ticks\":\"\"}},\"type\":\"scattermapbox\"}],\"scatterpolargl\":[{\"marker\":{\"colorbar\":{\"outlinewidth\":0,\"ticks\":\"\"}},\"type\":\"scatterpolargl\"}],\"scatterpolar\":[{\"marker\":{\"colorbar\":{\"outlinewidth\":0,\"ticks\":\"\"}},\"type\":\"scatterpolar\"}],\"scatter\":[{\"fillpattern\":{\"fillmode\":\"overlay\",\"size\":10,\"solidity\":0.2},\"type\":\"scatter\"}],\"scatterternary\":[{\"marker\":{\"colorbar\":{\"outlinewidth\":0,\"ticks\":\"\"}},\"type\":\"scatterternary\"}],\"surface\":[{\"colorbar\":{\"outlinewidth\":0,\"ticks\":\"\"},\"colorscale\":[[0.0,\"#0d0887\"],[0.1111111111111111,\"#46039f\"],[0.2222222222222222,\"#7201a8\"],[0.3333333333333333,\"#9c179e\"],[0.4444444444444444,\"#bd3786\"],[0.5555555555555556,\"#d8576b\"],[0.6666666666666666,\"#ed7953\"],[0.7777777777777778,\"#fb9f3a\"],[0.8888888888888888,\"#fdca26\"],[1.0,\"#f0f921\"]],\"type\":\"surface\"}],\"table\":[{\"cells\":{\"fill\":{\"color\":\"#EBF0F8\"},\"line\":{\"color\":\"white\"}},\"header\":{\"fill\":{\"color\":\"#C8D4E3\"},\"line\":{\"color\":\"white\"}},\"type\":\"table\"}]},\"layout\":{\"annotationdefaults\":{\"arrowcolor\":\"#2a3f5f\",\"arrowhead\":0,\"arrowwidth\":1},\"autotypenumbers\":\"strict\",\"coloraxis\":{\"colorbar\":{\"outlinewidth\":0,\"ticks\":\"\"}},\"colorscale\":{\"diverging\":[[0,\"#8e0152\"],[0.1,\"#c51b7d\"],[0.2,\"#de77ae\"],[0.3,\"#f1b6da\"],[0.4,\"#fde0ef\"],[0.5,\"#f7f7f7\"],[0.6,\"#e6f5d0\"],[0.7,\"#b8e186\"],[0.8,\"#7fbc41\"],[0.9,\"#4d9221\"],[1,\"#276419\"]],\"sequential\":[[0.0,\"#0d0887\"],[0.1111111111111111,\"#46039f\"],[0.2222222222222222,\"#7201a8\"],[0.3333333333333333,\"#9c179e\"],[0.4444444444444444,\"#bd3786\"],[0.5555555555555556,\"#d8576b\"],[0.6666666666666666,\"#ed7953\"],[0.7777777777777778,\"#fb9f3a\"],[0.8888888888888888,\"#fdca26\"],[1.0,\"#f0f921\"]],\"sequentialminus\":[[0.0,\"#0d0887\"],[0.1111111111111111,\"#46039f\"],[0.2222222222222222,\"#7201a8\"],[0.3333333333333333,\"#9c179e\"],[0.4444444444444444,\"#bd3786\"],[0.5555555555555556,\"#d8576b\"],[0.6666666666666666,\"#ed7953\"],[0.7777777777777778,\"#fb9f3a\"],[0.8888888888888888,\"#fdca26\"],[1.0,\"#f0f921\"]]},\"colorway\":[\"#636efa\",\"#EF553B\",\"#00cc96\",\"#ab63fa\",\"#FFA15A\",\"#19d3f3\",\"#FF6692\",\"#B6E880\",\"#FF97FF\",\"#FECB52\"],\"font\":{\"color\":\"#2a3f5f\"},\"geo\":{\"bgcolor\":\"white\",\"lakecolor\":\"white\",\"landcolor\":\"white\",\"showlakes\":true,\"showland\":true,\"subunitcolor\":\"#C8D4E3\"},\"hoverlabel\":{\"align\":\"left\"},\"hovermode\":\"closest\",\"mapbox\":{\"style\":\"light\"},\"paper_bgcolor\":\"white\",\"plot_bgcolor\":\"white\",\"polar\":{\"angularaxis\":{\"gridcolor\":\"#EBF0F8\",\"linecolor\":\"#EBF0F8\",\"ticks\":\"\"},\"bgcolor\":\"white\",\"radialaxis\":{\"gridcolor\":\"#EBF0F8\",\"linecolor\":\"#EBF0F8\",\"ticks\":\"\"}},\"scene\":{\"xaxis\":{\"backgroundcolor\":\"white\",\"gridcolor\":\"#DFE8F3\",\"gridwidth\":2,\"linecolor\":\"#EBF0F8\",\"showbackground\":true,\"ticks\":\"\",\"zerolinecolor\":\"#EBF0F8\"},\"yaxis\":{\"backgroundcolor\":\"white\",\"gridcolor\":\"#DFE8F3\",\"gridwidth\":2,\"linecolor\":\"#EBF0F8\",\"showbackground\":true,\"ticks\":\"\",\"zerolinecolor\":\"#EBF0F8\"},\"zaxis\":{\"backgroundcolor\":\"white\",\"gridcolor\":\"#DFE8F3\",\"gridwidth\":2,\"linecolor\":\"#EBF0F8\",\"showbackground\":true,\"ticks\":\"\",\"zerolinecolor\":\"#EBF0F8\"}},\"shapedefaults\":{\"line\":{\"color\":\"#2a3f5f\"}},\"ternary\":{\"aaxis\":{\"gridcolor\":\"#DFE8F3\",\"linecolor\":\"#A2B1C6\",\"ticks\":\"\"},\"baxis\":{\"gridcolor\":\"#DFE8F3\",\"linecolor\":\"#A2B1C6\",\"ticks\":\"\"},\"bgcolor\":\"white\",\"caxis\":{\"gridcolor\":\"#DFE8F3\",\"linecolor\":\"#A2B1C6\",\"ticks\":\"\"}},\"title\":{\"x\":0.05},\"xaxis\":{\"automargin\":true,\"gridcolor\":\"#EBF0F8\",\"linecolor\":\"#EBF0F8\",\"ticks\":\"\",\"title\":{\"standoff\":15},\"zerolinecolor\":\"#EBF0F8\",\"zerolinewidth\":2},\"yaxis\":{\"automargin\":true,\"gridcolor\":\"#EBF0F8\",\"linecolor\":\"#EBF0F8\",\"ticks\":\"\",\"title\":{\"standoff\":15},\"zerolinecolor\":\"#EBF0F8\",\"zerolinewidth\":2}}},\"title\":{\"text\":\"Additive Model: Literacy + Wealth\"},\"xaxis\":{\"title\":{\"text\":\"Literacy\"}},\"yaxis\":{\"title\":{\"text\":\"Probability of Lottery Participation\"}}},                        {\"responsive\": true}                    ).then(function(){\n",
       "                            \n",
       "var gd = document.getElementById('eaf14a83-a166-44ed-a089-42add043b211');\n",
       "var x = new MutationObserver(function (mutations, observer) {{\n",
       "        var display = window.getComputedStyle(gd).display;\n",
       "        if (!display || display === 'none') {{\n",
       "            console.log([gd, 'removed!']);\n",
       "            Plotly.purge(gd);\n",
       "            observer.disconnect();\n",
       "        }}\n",
       "}});\n",
       "\n",
       "// Listen for the removal of the full notebook cells\n",
       "var notebookContainer = gd.closest('#notebook-container');\n",
       "if (notebookContainer) {{\n",
       "    x.observe(notebookContainer, {childList: true});\n",
       "}}\n",
       "\n",
       "// Listen for the clearing of the current output cell\n",
       "var outputEl = gd.closest('.output');\n",
       "if (outputEl) {{\n",
       "    x.observe(outputEl, {childList: true});\n",
       "}}\n",
       "\n",
       "                        })                };                });            </script>        </div>"
      ]
     },
     "metadata": {},
     "output_type": "display_data"
    },
    {
     "data": {
      "application/vnd.plotly.v1+json": {
       "config": {
        "plotlyServerURL": "https://plot.ly"
       },
       "data": [
        {
         "marker": {
          "color": "blue"
         },
         "mode": "markers",
         "name": "Data",
         "type": "scatter",
         "x": [
          37,
          51,
          13,
          46,
          69,
          27,
          67,
          18,
          59,
          34,
          31,
          38,
          52,
          31,
          36,
          39,
          13,
          12,
          60,
          16,
          23,
          18,
          73,
          42,
          51,
          54,
          15,
          40,
          31,
          38,
          40,
          45,
          25,
          17,
          27,
          29,
          73,
          28,
          27,
          29,
          21,
          24,
          42,
          24,
          31,
          27,
          23,
          43,
          63,
          72,
          19,
          68,
          74,
          14,
          57,
          20,
          45,
          54,
          45,
          49,
          19,
          47,
          53,
          31,
          62,
          71,
          45,
          59,
          32,
          30,
          71,
          43,
          54,
          56,
          41,
          44,
          20,
          25,
          23,
          37,
          28,
          25,
          13,
          62,
          47
         ],
         "y": [
          0,
          0,
          1,
          1,
          1,
          1,
          0,
          1,
          0,
          1,
          1,
          0,
          0,
          1,
          1,
          0,
          1,
          1,
          0,
          1,
          1,
          1,
          0,
          1,
          1,
          1,
          0,
          0,
          0,
          1,
          0,
          0,
          0,
          1,
          0,
          0,
          0,
          1,
          1,
          0,
          1,
          0,
          0,
          1,
          1,
          1,
          0,
          1,
          0,
          1,
          1,
          0,
          1,
          0,
          0,
          1,
          0,
          0,
          1,
          0,
          1,
          0,
          1,
          0,
          0,
          0,
          0,
          1,
          1,
          1,
          0,
          0,
          0,
          0,
          1,
          0,
          1,
          1,
          0,
          0,
          1,
          0,
          1,
          0,
          1
         ]
        },
        {
         "line": {
          "color": "green"
         },
         "mode": "lines",
         "name": "Synergistic Best Fit Line",
         "type": "scatter",
         "x": [
          12,
          12.626262626262626,
          13.252525252525253,
          13.878787878787879,
          14.505050505050505,
          15.131313131313131,
          15.757575757575758,
          16.383838383838384,
          17.01010101010101,
          17.636363636363637,
          18.262626262626263,
          18.88888888888889,
          19.515151515151516,
          20.141414141414142,
          20.767676767676768,
          21.393939393939394,
          22.02020202020202,
          22.646464646464647,
          23.272727272727273,
          23.8989898989899,
          24.525252525252526,
          25.151515151515152,
          25.77777777777778,
          26.404040404040405,
          27.03030303030303,
          27.656565656565657,
          28.282828282828284,
          28.90909090909091,
          29.535353535353536,
          30.161616161616163,
          30.78787878787879,
          31.414141414141415,
          32.04040404040404,
          32.66666666666667,
          33.292929292929294,
          33.91919191919192,
          34.54545454545455,
          35.17171717171718,
          35.7979797979798,
          36.42424242424242,
          37.05050505050505,
          37.67676767676768,
          38.303030303030305,
          38.92929292929293,
          39.55555555555556,
          40.18181818181819,
          40.80808080808081,
          41.43434343434343,
          42.06060606060606,
          42.68686868686869,
          43.313131313131315,
          43.93939393939394,
          44.56565656565657,
          45.1919191919192,
          45.81818181818182,
          46.44444444444444,
          47.07070707070707,
          47.6969696969697,
          48.323232323232325,
          48.94949494949495,
          49.57575757575758,
          50.20202020202021,
          50.82828282828283,
          51.45454545454545,
          52.08080808080808,
          52.70707070707071,
          53.333333333333336,
          53.95959595959596,
          54.58585858585859,
          55.21212121212122,
          55.83838383838384,
          56.464646464646464,
          57.09090909090909,
          57.71717171717172,
          58.343434343434346,
          58.96969696969697,
          59.5959595959596,
          60.22222222222223,
          60.84848484848485,
          61.474747474747474,
          62.101010101010104,
          62.727272727272734,
          63.35353535353536,
          63.97979797979798,
          64.60606060606061,
          65.23232323232324,
          65.85858585858585,
          66.48484848484848,
          67.11111111111111,
          67.73737373737374,
          68.36363636363637,
          68.98989898989899,
          69.61616161616162,
          70.24242424242425,
          70.86868686868686,
          71.4949494949495,
          72.12121212121212,
          72.74747474747475,
          73.37373737373738,
          74
         ],
         "y": [
          0.7221383085488527,
          0.717545155829342,
          0.7129062620245399,
          0.7082221615080186,
          0.7034934227934312,
          0.6987206486530224,
          0.6939044761884247,
          0.6890455768523163,
          0.6841446564196231,
          0.6792024549070362,
          0.6742197464397347,
          0.6691973390643169,
          0.6641360745070644,
          0.6590368278768013,
          0.653900507311741,
          0.6487280535698605,
          0.6435204395624917,
          0.638278669830972,
          0.6330037799663555,
          0.6276968359723512,
          0.62235893357182,
          0.6169911974573292,
          0.6115947804864386,
          0.6061708628225602,
          0.6007206510224122,
          0.5952453770712522,
          0.5897462973672527,
          0.5842246916565498,
          0.578681861920661,
          0.5731191312181304,
          0.5675378424824213,
          0.5619393572782265,
          0.5563250545185138,
          0.5506963291447664,
          0.5450545907730086,
          0.5394012623083307,
          0.5337377785307458,
          0.5280655846553113,
          0.52238613486955,
          0.5167008908512808,
          0.5110113202700535,
          0.5053188952754342,
          0.4996250909754415,
          0.49393138390847036,
          0.48823925051206535,
          0.48255016559191616,
          0.4768656007944479,
          0.47118702308636373,
          0.465515893244474,
          0.45985366435910535,
          0.4542017803543313,
          0.4485616745282053,
          0.4429347681161004,
          0.4373224688801748,
          0.4317261697278868,
          0.4261472473623726,
          0.4205870609673877,
          0.4150469509293861,
          0.40952823759917695,
          0.4040322200954575,
          0.39856017515237396,
          0.3931133560131091,
          0.3876929913713324,
          0.38230028436218927,
          0.37693641160433783,
          0.37160252229436974,
          0.3662997373547837,
          0.3610291486365044,
          0.3557918181767702,
          0.35058877751303646,
          0.345421027053375,
          0.340289535503678,
          0.33519523935180956,
          0.3301390424086871,
          0.3251218154061137,
          0.32014439565103,
          0.3152075867357068,
          0.3103121583032538,
          0.3054588458676871,
          0.3006483506876634,
          0.29588133969287,
          0.2911584454619431,
          0.28648026625067496,
          0.28184736606917543,
          0.2772602748065568,
          0.27271948840162835,
          0.26822546905800926,
          0.2637786455019998,
          0.2593794132814944,
          0.2550281351041596,
          0.25072514121306455,
          0.24647072979790915,
          0.2422651674399679,
          0.23810868958884543,
          0.23400150106912557,
          0.22994377661498666,
          0.22593566143085875,
          0.22197727177619733,
          0.2180686955724655,
          0.21420999303043167
         ]
        }
       ],
       "layout": {
        "template": {
         "data": {
          "bar": [
           {
            "error_x": {
             "color": "#2a3f5f"
            },
            "error_y": {
             "color": "#2a3f5f"
            },
            "marker": {
             "line": {
              "color": "white",
              "width": 0.5
             },
             "pattern": {
              "fillmode": "overlay",
              "size": 10,
              "solidity": 0.2
             }
            },
            "type": "bar"
           }
          ],
          "barpolar": [
           {
            "marker": {
             "line": {
              "color": "white",
              "width": 0.5
             },
             "pattern": {
              "fillmode": "overlay",
              "size": 10,
              "solidity": 0.2
             }
            },
            "type": "barpolar"
           }
          ],
          "carpet": [
           {
            "aaxis": {
             "endlinecolor": "#2a3f5f",
             "gridcolor": "#C8D4E3",
             "linecolor": "#C8D4E3",
             "minorgridcolor": "#C8D4E3",
             "startlinecolor": "#2a3f5f"
            },
            "baxis": {
             "endlinecolor": "#2a3f5f",
             "gridcolor": "#C8D4E3",
             "linecolor": "#C8D4E3",
             "minorgridcolor": "#C8D4E3",
             "startlinecolor": "#2a3f5f"
            },
            "type": "carpet"
           }
          ],
          "choropleth": [
           {
            "colorbar": {
             "outlinewidth": 0,
             "ticks": ""
            },
            "type": "choropleth"
           }
          ],
          "contour": [
           {
            "colorbar": {
             "outlinewidth": 0,
             "ticks": ""
            },
            "colorscale": [
             [
              0,
              "#0d0887"
             ],
             [
              0.1111111111111111,
              "#46039f"
             ],
             [
              0.2222222222222222,
              "#7201a8"
             ],
             [
              0.3333333333333333,
              "#9c179e"
             ],
             [
              0.4444444444444444,
              "#bd3786"
             ],
             [
              0.5555555555555556,
              "#d8576b"
             ],
             [
              0.6666666666666666,
              "#ed7953"
             ],
             [
              0.7777777777777778,
              "#fb9f3a"
             ],
             [
              0.8888888888888888,
              "#fdca26"
             ],
             [
              1,
              "#f0f921"
             ]
            ],
            "type": "contour"
           }
          ],
          "contourcarpet": [
           {
            "colorbar": {
             "outlinewidth": 0,
             "ticks": ""
            },
            "type": "contourcarpet"
           }
          ],
          "heatmap": [
           {
            "colorbar": {
             "outlinewidth": 0,
             "ticks": ""
            },
            "colorscale": [
             [
              0,
              "#0d0887"
             ],
             [
              0.1111111111111111,
              "#46039f"
             ],
             [
              0.2222222222222222,
              "#7201a8"
             ],
             [
              0.3333333333333333,
              "#9c179e"
             ],
             [
              0.4444444444444444,
              "#bd3786"
             ],
             [
              0.5555555555555556,
              "#d8576b"
             ],
             [
              0.6666666666666666,
              "#ed7953"
             ],
             [
              0.7777777777777778,
              "#fb9f3a"
             ],
             [
              0.8888888888888888,
              "#fdca26"
             ],
             [
              1,
              "#f0f921"
             ]
            ],
            "type": "heatmap"
           }
          ],
          "heatmapgl": [
           {
            "colorbar": {
             "outlinewidth": 0,
             "ticks": ""
            },
            "colorscale": [
             [
              0,
              "#0d0887"
             ],
             [
              0.1111111111111111,
              "#46039f"
             ],
             [
              0.2222222222222222,
              "#7201a8"
             ],
             [
              0.3333333333333333,
              "#9c179e"
             ],
             [
              0.4444444444444444,
              "#bd3786"
             ],
             [
              0.5555555555555556,
              "#d8576b"
             ],
             [
              0.6666666666666666,
              "#ed7953"
             ],
             [
              0.7777777777777778,
              "#fb9f3a"
             ],
             [
              0.8888888888888888,
              "#fdca26"
             ],
             [
              1,
              "#f0f921"
             ]
            ],
            "type": "heatmapgl"
           }
          ],
          "histogram": [
           {
            "marker": {
             "pattern": {
              "fillmode": "overlay",
              "size": 10,
              "solidity": 0.2
             }
            },
            "type": "histogram"
           }
          ],
          "histogram2d": [
           {
            "colorbar": {
             "outlinewidth": 0,
             "ticks": ""
            },
            "colorscale": [
             [
              0,
              "#0d0887"
             ],
             [
              0.1111111111111111,
              "#46039f"
             ],
             [
              0.2222222222222222,
              "#7201a8"
             ],
             [
              0.3333333333333333,
              "#9c179e"
             ],
             [
              0.4444444444444444,
              "#bd3786"
             ],
             [
              0.5555555555555556,
              "#d8576b"
             ],
             [
              0.6666666666666666,
              "#ed7953"
             ],
             [
              0.7777777777777778,
              "#fb9f3a"
             ],
             [
              0.8888888888888888,
              "#fdca26"
             ],
             [
              1,
              "#f0f921"
             ]
            ],
            "type": "histogram2d"
           }
          ],
          "histogram2dcontour": [
           {
            "colorbar": {
             "outlinewidth": 0,
             "ticks": ""
            },
            "colorscale": [
             [
              0,
              "#0d0887"
             ],
             [
              0.1111111111111111,
              "#46039f"
             ],
             [
              0.2222222222222222,
              "#7201a8"
             ],
             [
              0.3333333333333333,
              "#9c179e"
             ],
             [
              0.4444444444444444,
              "#bd3786"
             ],
             [
              0.5555555555555556,
              "#d8576b"
             ],
             [
              0.6666666666666666,
              "#ed7953"
             ],
             [
              0.7777777777777778,
              "#fb9f3a"
             ],
             [
              0.8888888888888888,
              "#fdca26"
             ],
             [
              1,
              "#f0f921"
             ]
            ],
            "type": "histogram2dcontour"
           }
          ],
          "mesh3d": [
           {
            "colorbar": {
             "outlinewidth": 0,
             "ticks": ""
            },
            "type": "mesh3d"
           }
          ],
          "parcoords": [
           {
            "line": {
             "colorbar": {
              "outlinewidth": 0,
              "ticks": ""
             }
            },
            "type": "parcoords"
           }
          ],
          "pie": [
           {
            "automargin": true,
            "type": "pie"
           }
          ],
          "scatter": [
           {
            "fillpattern": {
             "fillmode": "overlay",
             "size": 10,
             "solidity": 0.2
            },
            "type": "scatter"
           }
          ],
          "scatter3d": [
           {
            "line": {
             "colorbar": {
              "outlinewidth": 0,
              "ticks": ""
             }
            },
            "marker": {
             "colorbar": {
              "outlinewidth": 0,
              "ticks": ""
             }
            },
            "type": "scatter3d"
           }
          ],
          "scattercarpet": [
           {
            "marker": {
             "colorbar": {
              "outlinewidth": 0,
              "ticks": ""
             }
            },
            "type": "scattercarpet"
           }
          ],
          "scattergeo": [
           {
            "marker": {
             "colorbar": {
              "outlinewidth": 0,
              "ticks": ""
             }
            },
            "type": "scattergeo"
           }
          ],
          "scattergl": [
           {
            "marker": {
             "colorbar": {
              "outlinewidth": 0,
              "ticks": ""
             }
            },
            "type": "scattergl"
           }
          ],
          "scattermapbox": [
           {
            "marker": {
             "colorbar": {
              "outlinewidth": 0,
              "ticks": ""
             }
            },
            "type": "scattermapbox"
           }
          ],
          "scatterpolar": [
           {
            "marker": {
             "colorbar": {
              "outlinewidth": 0,
              "ticks": ""
             }
            },
            "type": "scatterpolar"
           }
          ],
          "scatterpolargl": [
           {
            "marker": {
             "colorbar": {
              "outlinewidth": 0,
              "ticks": ""
             }
            },
            "type": "scatterpolargl"
           }
          ],
          "scatterternary": [
           {
            "marker": {
             "colorbar": {
              "outlinewidth": 0,
              "ticks": ""
             }
            },
            "type": "scatterternary"
           }
          ],
          "surface": [
           {
            "colorbar": {
             "outlinewidth": 0,
             "ticks": ""
            },
            "colorscale": [
             [
              0,
              "#0d0887"
             ],
             [
              0.1111111111111111,
              "#46039f"
             ],
             [
              0.2222222222222222,
              "#7201a8"
             ],
             [
              0.3333333333333333,
              "#9c179e"
             ],
             [
              0.4444444444444444,
              "#bd3786"
             ],
             [
              0.5555555555555556,
              "#d8576b"
             ],
             [
              0.6666666666666666,
              "#ed7953"
             ],
             [
              0.7777777777777778,
              "#fb9f3a"
             ],
             [
              0.8888888888888888,
              "#fdca26"
             ],
             [
              1,
              "#f0f921"
             ]
            ],
            "type": "surface"
           }
          ],
          "table": [
           {
            "cells": {
             "fill": {
              "color": "#EBF0F8"
             },
             "line": {
              "color": "white"
             }
            },
            "header": {
             "fill": {
              "color": "#C8D4E3"
             },
             "line": {
              "color": "white"
             }
            },
            "type": "table"
           }
          ]
         },
         "layout": {
          "annotationdefaults": {
           "arrowcolor": "#2a3f5f",
           "arrowhead": 0,
           "arrowwidth": 1
          },
          "autotypenumbers": "strict",
          "coloraxis": {
           "colorbar": {
            "outlinewidth": 0,
            "ticks": ""
           }
          },
          "colorscale": {
           "diverging": [
            [
             0,
             "#8e0152"
            ],
            [
             0.1,
             "#c51b7d"
            ],
            [
             0.2,
             "#de77ae"
            ],
            [
             0.3,
             "#f1b6da"
            ],
            [
             0.4,
             "#fde0ef"
            ],
            [
             0.5,
             "#f7f7f7"
            ],
            [
             0.6,
             "#e6f5d0"
            ],
            [
             0.7,
             "#b8e186"
            ],
            [
             0.8,
             "#7fbc41"
            ],
            [
             0.9,
             "#4d9221"
            ],
            [
             1,
             "#276419"
            ]
           ],
           "sequential": [
            [
             0,
             "#0d0887"
            ],
            [
             0.1111111111111111,
             "#46039f"
            ],
            [
             0.2222222222222222,
             "#7201a8"
            ],
            [
             0.3333333333333333,
             "#9c179e"
            ],
            [
             0.4444444444444444,
             "#bd3786"
            ],
            [
             0.5555555555555556,
             "#d8576b"
            ],
            [
             0.6666666666666666,
             "#ed7953"
            ],
            [
             0.7777777777777778,
             "#fb9f3a"
            ],
            [
             0.8888888888888888,
             "#fdca26"
            ],
            [
             1,
             "#f0f921"
            ]
           ],
           "sequentialminus": [
            [
             0,
             "#0d0887"
            ],
            [
             0.1111111111111111,
             "#46039f"
            ],
            [
             0.2222222222222222,
             "#7201a8"
            ],
            [
             0.3333333333333333,
             "#9c179e"
            ],
            [
             0.4444444444444444,
             "#bd3786"
            ],
            [
             0.5555555555555556,
             "#d8576b"
            ],
            [
             0.6666666666666666,
             "#ed7953"
            ],
            [
             0.7777777777777778,
             "#fb9f3a"
            ],
            [
             0.8888888888888888,
             "#fdca26"
            ],
            [
             1,
             "#f0f921"
            ]
           ]
          },
          "colorway": [
           "#636efa",
           "#EF553B",
           "#00cc96",
           "#ab63fa",
           "#FFA15A",
           "#19d3f3",
           "#FF6692",
           "#B6E880",
           "#FF97FF",
           "#FECB52"
          ],
          "font": {
           "color": "#2a3f5f"
          },
          "geo": {
           "bgcolor": "white",
           "lakecolor": "white",
           "landcolor": "white",
           "showlakes": true,
           "showland": true,
           "subunitcolor": "#C8D4E3"
          },
          "hoverlabel": {
           "align": "left"
          },
          "hovermode": "closest",
          "mapbox": {
           "style": "light"
          },
          "paper_bgcolor": "white",
          "plot_bgcolor": "white",
          "polar": {
           "angularaxis": {
            "gridcolor": "#EBF0F8",
            "linecolor": "#EBF0F8",
            "ticks": ""
           },
           "bgcolor": "white",
           "radialaxis": {
            "gridcolor": "#EBF0F8",
            "linecolor": "#EBF0F8",
            "ticks": ""
           }
          },
          "scene": {
           "xaxis": {
            "backgroundcolor": "white",
            "gridcolor": "#DFE8F3",
            "gridwidth": 2,
            "linecolor": "#EBF0F8",
            "showbackground": true,
            "ticks": "",
            "zerolinecolor": "#EBF0F8"
           },
           "yaxis": {
            "backgroundcolor": "white",
            "gridcolor": "#DFE8F3",
            "gridwidth": 2,
            "linecolor": "#EBF0F8",
            "showbackground": true,
            "ticks": "",
            "zerolinecolor": "#EBF0F8"
           },
           "zaxis": {
            "backgroundcolor": "white",
            "gridcolor": "#DFE8F3",
            "gridwidth": 2,
            "linecolor": "#EBF0F8",
            "showbackground": true,
            "ticks": "",
            "zerolinecolor": "#EBF0F8"
           }
          },
          "shapedefaults": {
           "line": {
            "color": "#2a3f5f"
           }
          },
          "ternary": {
           "aaxis": {
            "gridcolor": "#DFE8F3",
            "linecolor": "#A2B1C6",
            "ticks": ""
           },
           "baxis": {
            "gridcolor": "#DFE8F3",
            "linecolor": "#A2B1C6",
            "ticks": ""
           },
           "bgcolor": "white",
           "caxis": {
            "gridcolor": "#DFE8F3",
            "linecolor": "#A2B1C6",
            "ticks": ""
           }
          },
          "title": {
           "x": 0.05
          },
          "xaxis": {
           "automargin": true,
           "gridcolor": "#EBF0F8",
           "linecolor": "#EBF0F8",
           "ticks": "",
           "title": {
            "standoff": 15
           },
           "zerolinecolor": "#EBF0F8",
           "zerolinewidth": 2
          },
          "yaxis": {
           "automargin": true,
           "gridcolor": "#EBF0F8",
           "linecolor": "#EBF0F8",
           "ticks": "",
           "title": {
            "standoff": 15
           },
           "zerolinecolor": "#EBF0F8",
           "zerolinewidth": 2
          }
         }
        },
        "title": {
         "text": "Synergistic Model: Literacy * Wealth"
        },
        "xaxis": {
         "title": {
          "text": "Literacy"
         }
        },
        "yaxis": {
         "title": {
          "text": "Probability of Lottery Participation"
         }
        }
       }
      },
      "text/html": [
       "<div>                            <div id=\"4372d2b6-07de-48d0-b628-a7c4172f9c41\" class=\"plotly-graph-div\" style=\"height:525px; width:100%;\"></div>            <script type=\"text/javascript\">                require([\"plotly\"], function(Plotly) {                    window.PLOTLYENV=window.PLOTLYENV || {};                                    if (document.getElementById(\"4372d2b6-07de-48d0-b628-a7c4172f9c41\")) {                    Plotly.newPlot(                        \"4372d2b6-07de-48d0-b628-a7c4172f9c41\",                        [{\"marker\":{\"color\":\"blue\"},\"mode\":\"markers\",\"name\":\"Data\",\"x\":[37,51,13,46,69,27,67,18,59,34,31,38,52,31,36,39,13,12,60,16,23,18,73,42,51,54,15,40,31,38,40,45,25,17,27,29,73,28,27,29,21,24,42,24,31,27,23,43,63,72,19,68,74,14,57,20,45,54,45,49,19,47,53,31,62,71,45,59,32,30,71,43,54,56,41,44,20,25,23,37,28,25,13,62,47],\"y\":[0,0,1,1,1,1,0,1,0,1,1,0,0,1,1,0,1,1,0,1,1,1,0,1,1,1,0,0,0,1,0,0,0,1,0,0,0,1,1,0,1,0,0,1,1,1,0,1,0,1,1,0,1,0,0,1,0,0,1,0,1,0,1,0,0,0,0,1,1,1,0,0,0,0,1,0,1,1,0,0,1,0,1,0,1],\"type\":\"scatter\"},{\"line\":{\"color\":\"green\"},\"mode\":\"lines\",\"name\":\"Synergistic Best Fit Line\",\"x\":[12.0,12.626262626262626,13.252525252525253,13.878787878787879,14.505050505050505,15.131313131313131,15.757575757575758,16.383838383838384,17.01010101010101,17.636363636363637,18.262626262626263,18.88888888888889,19.515151515151516,20.141414141414142,20.767676767676768,21.393939393939394,22.02020202020202,22.646464646464647,23.272727272727273,23.8989898989899,24.525252525252526,25.151515151515152,25.77777777777778,26.404040404040405,27.03030303030303,27.656565656565657,28.282828282828284,28.90909090909091,29.535353535353536,30.161616161616163,30.78787878787879,31.414141414141415,32.04040404040404,32.66666666666667,33.292929292929294,33.91919191919192,34.54545454545455,35.17171717171718,35.7979797979798,36.42424242424242,37.05050505050505,37.67676767676768,38.303030303030305,38.92929292929293,39.55555555555556,40.18181818181819,40.80808080808081,41.43434343434343,42.06060606060606,42.68686868686869,43.313131313131315,43.93939393939394,44.56565656565657,45.1919191919192,45.81818181818182,46.44444444444444,47.07070707070707,47.6969696969697,48.323232323232325,48.94949494949495,49.57575757575758,50.20202020202021,50.82828282828283,51.45454545454545,52.08080808080808,52.70707070707071,53.333333333333336,53.95959595959596,54.58585858585859,55.21212121212122,55.83838383838384,56.464646464646464,57.09090909090909,57.71717171717172,58.343434343434346,58.96969696969697,59.5959595959596,60.22222222222223,60.84848484848485,61.474747474747474,62.101010101010104,62.727272727272734,63.35353535353536,63.97979797979798,64.60606060606061,65.23232323232324,65.85858585858585,66.48484848484848,67.11111111111111,67.73737373737374,68.36363636363637,68.98989898989899,69.61616161616162,70.24242424242425,70.86868686868686,71.4949494949495,72.12121212121212,72.74747474747475,73.37373737373738,74.0],\"y\":[0.7221383085488527,0.717545155829342,0.7129062620245399,0.7082221615080186,0.7034934227934312,0.6987206486530224,0.6939044761884247,0.6890455768523163,0.6841446564196231,0.6792024549070362,0.6742197464397347,0.6691973390643169,0.6641360745070644,0.6590368278768013,0.653900507311741,0.6487280535698605,0.6435204395624917,0.638278669830972,0.6330037799663555,0.6276968359723512,0.62235893357182,0.6169911974573292,0.6115947804864386,0.6061708628225602,0.6007206510224122,0.5952453770712522,0.5897462973672527,0.5842246916565498,0.578681861920661,0.5731191312181304,0.5675378424824213,0.5619393572782265,0.5563250545185138,0.5506963291447664,0.5450545907730086,0.5394012623083307,0.5337377785307458,0.5280655846553113,0.52238613486955,0.5167008908512808,0.5110113202700535,0.5053188952754342,0.4996250909754415,0.49393138390847036,0.48823925051206535,0.48255016559191616,0.4768656007944479,0.47118702308636373,0.465515893244474,0.45985366435910535,0.4542017803543313,0.4485616745282053,0.4429347681161004,0.4373224688801748,0.4317261697278868,0.4261472473623726,0.4205870609673877,0.4150469509293861,0.40952823759917695,0.4040322200954575,0.39856017515237396,0.3931133560131091,0.3876929913713324,0.38230028436218927,0.37693641160433783,0.37160252229436974,0.3662997373547837,0.3610291486365044,0.3557918181767702,0.35058877751303646,0.345421027053375,0.340289535503678,0.33519523935180956,0.3301390424086871,0.3251218154061137,0.32014439565103,0.3152075867357068,0.3103121583032538,0.3054588458676871,0.3006483506876634,0.29588133969287,0.2911584454619431,0.28648026625067496,0.28184736606917543,0.2772602748065568,0.27271948840162835,0.26822546905800926,0.2637786455019998,0.2593794132814944,0.2550281351041596,0.25072514121306455,0.24647072979790915,0.2422651674399679,0.23810868958884543,0.23400150106912557,0.22994377661498666,0.22593566143085875,0.22197727177619733,0.2180686955724655,0.21420999303043167],\"type\":\"scatter\"}],                        {\"template\":{\"data\":{\"barpolar\":[{\"marker\":{\"line\":{\"color\":\"white\",\"width\":0.5},\"pattern\":{\"fillmode\":\"overlay\",\"size\":10,\"solidity\":0.2}},\"type\":\"barpolar\"}],\"bar\":[{\"error_x\":{\"color\":\"#2a3f5f\"},\"error_y\":{\"color\":\"#2a3f5f\"},\"marker\":{\"line\":{\"color\":\"white\",\"width\":0.5},\"pattern\":{\"fillmode\":\"overlay\",\"size\":10,\"solidity\":0.2}},\"type\":\"bar\"}],\"carpet\":[{\"aaxis\":{\"endlinecolor\":\"#2a3f5f\",\"gridcolor\":\"#C8D4E3\",\"linecolor\":\"#C8D4E3\",\"minorgridcolor\":\"#C8D4E3\",\"startlinecolor\":\"#2a3f5f\"},\"baxis\":{\"endlinecolor\":\"#2a3f5f\",\"gridcolor\":\"#C8D4E3\",\"linecolor\":\"#C8D4E3\",\"minorgridcolor\":\"#C8D4E3\",\"startlinecolor\":\"#2a3f5f\"},\"type\":\"carpet\"}],\"choropleth\":[{\"colorbar\":{\"outlinewidth\":0,\"ticks\":\"\"},\"type\":\"choropleth\"}],\"contourcarpet\":[{\"colorbar\":{\"outlinewidth\":0,\"ticks\":\"\"},\"type\":\"contourcarpet\"}],\"contour\":[{\"colorbar\":{\"outlinewidth\":0,\"ticks\":\"\"},\"colorscale\":[[0.0,\"#0d0887\"],[0.1111111111111111,\"#46039f\"],[0.2222222222222222,\"#7201a8\"],[0.3333333333333333,\"#9c179e\"],[0.4444444444444444,\"#bd3786\"],[0.5555555555555556,\"#d8576b\"],[0.6666666666666666,\"#ed7953\"],[0.7777777777777778,\"#fb9f3a\"],[0.8888888888888888,\"#fdca26\"],[1.0,\"#f0f921\"]],\"type\":\"contour\"}],\"heatmapgl\":[{\"colorbar\":{\"outlinewidth\":0,\"ticks\":\"\"},\"colorscale\":[[0.0,\"#0d0887\"],[0.1111111111111111,\"#46039f\"],[0.2222222222222222,\"#7201a8\"],[0.3333333333333333,\"#9c179e\"],[0.4444444444444444,\"#bd3786\"],[0.5555555555555556,\"#d8576b\"],[0.6666666666666666,\"#ed7953\"],[0.7777777777777778,\"#fb9f3a\"],[0.8888888888888888,\"#fdca26\"],[1.0,\"#f0f921\"]],\"type\":\"heatmapgl\"}],\"heatmap\":[{\"colorbar\":{\"outlinewidth\":0,\"ticks\":\"\"},\"colorscale\":[[0.0,\"#0d0887\"],[0.1111111111111111,\"#46039f\"],[0.2222222222222222,\"#7201a8\"],[0.3333333333333333,\"#9c179e\"],[0.4444444444444444,\"#bd3786\"],[0.5555555555555556,\"#d8576b\"],[0.6666666666666666,\"#ed7953\"],[0.7777777777777778,\"#fb9f3a\"],[0.8888888888888888,\"#fdca26\"],[1.0,\"#f0f921\"]],\"type\":\"heatmap\"}],\"histogram2dcontour\":[{\"colorbar\":{\"outlinewidth\":0,\"ticks\":\"\"},\"colorscale\":[[0.0,\"#0d0887\"],[0.1111111111111111,\"#46039f\"],[0.2222222222222222,\"#7201a8\"],[0.3333333333333333,\"#9c179e\"],[0.4444444444444444,\"#bd3786\"],[0.5555555555555556,\"#d8576b\"],[0.6666666666666666,\"#ed7953\"],[0.7777777777777778,\"#fb9f3a\"],[0.8888888888888888,\"#fdca26\"],[1.0,\"#f0f921\"]],\"type\":\"histogram2dcontour\"}],\"histogram2d\":[{\"colorbar\":{\"outlinewidth\":0,\"ticks\":\"\"},\"colorscale\":[[0.0,\"#0d0887\"],[0.1111111111111111,\"#46039f\"],[0.2222222222222222,\"#7201a8\"],[0.3333333333333333,\"#9c179e\"],[0.4444444444444444,\"#bd3786\"],[0.5555555555555556,\"#d8576b\"],[0.6666666666666666,\"#ed7953\"],[0.7777777777777778,\"#fb9f3a\"],[0.8888888888888888,\"#fdca26\"],[1.0,\"#f0f921\"]],\"type\":\"histogram2d\"}],\"histogram\":[{\"marker\":{\"pattern\":{\"fillmode\":\"overlay\",\"size\":10,\"solidity\":0.2}},\"type\":\"histogram\"}],\"mesh3d\":[{\"colorbar\":{\"outlinewidth\":0,\"ticks\":\"\"},\"type\":\"mesh3d\"}],\"parcoords\":[{\"line\":{\"colorbar\":{\"outlinewidth\":0,\"ticks\":\"\"}},\"type\":\"parcoords\"}],\"pie\":[{\"automargin\":true,\"type\":\"pie\"}],\"scatter3d\":[{\"line\":{\"colorbar\":{\"outlinewidth\":0,\"ticks\":\"\"}},\"marker\":{\"colorbar\":{\"outlinewidth\":0,\"ticks\":\"\"}},\"type\":\"scatter3d\"}],\"scattercarpet\":[{\"marker\":{\"colorbar\":{\"outlinewidth\":0,\"ticks\":\"\"}},\"type\":\"scattercarpet\"}],\"scattergeo\":[{\"marker\":{\"colorbar\":{\"outlinewidth\":0,\"ticks\":\"\"}},\"type\":\"scattergeo\"}],\"scattergl\":[{\"marker\":{\"colorbar\":{\"outlinewidth\":0,\"ticks\":\"\"}},\"type\":\"scattergl\"}],\"scattermapbox\":[{\"marker\":{\"colorbar\":{\"outlinewidth\":0,\"ticks\":\"\"}},\"type\":\"scattermapbox\"}],\"scatterpolargl\":[{\"marker\":{\"colorbar\":{\"outlinewidth\":0,\"ticks\":\"\"}},\"type\":\"scatterpolargl\"}],\"scatterpolar\":[{\"marker\":{\"colorbar\":{\"outlinewidth\":0,\"ticks\":\"\"}},\"type\":\"scatterpolar\"}],\"scatter\":[{\"fillpattern\":{\"fillmode\":\"overlay\",\"size\":10,\"solidity\":0.2},\"type\":\"scatter\"}],\"scatterternary\":[{\"marker\":{\"colorbar\":{\"outlinewidth\":0,\"ticks\":\"\"}},\"type\":\"scatterternary\"}],\"surface\":[{\"colorbar\":{\"outlinewidth\":0,\"ticks\":\"\"},\"colorscale\":[[0.0,\"#0d0887\"],[0.1111111111111111,\"#46039f\"],[0.2222222222222222,\"#7201a8\"],[0.3333333333333333,\"#9c179e\"],[0.4444444444444444,\"#bd3786\"],[0.5555555555555556,\"#d8576b\"],[0.6666666666666666,\"#ed7953\"],[0.7777777777777778,\"#fb9f3a\"],[0.8888888888888888,\"#fdca26\"],[1.0,\"#f0f921\"]],\"type\":\"surface\"}],\"table\":[{\"cells\":{\"fill\":{\"color\":\"#EBF0F8\"},\"line\":{\"color\":\"white\"}},\"header\":{\"fill\":{\"color\":\"#C8D4E3\"},\"line\":{\"color\":\"white\"}},\"type\":\"table\"}]},\"layout\":{\"annotationdefaults\":{\"arrowcolor\":\"#2a3f5f\",\"arrowhead\":0,\"arrowwidth\":1},\"autotypenumbers\":\"strict\",\"coloraxis\":{\"colorbar\":{\"outlinewidth\":0,\"ticks\":\"\"}},\"colorscale\":{\"diverging\":[[0,\"#8e0152\"],[0.1,\"#c51b7d\"],[0.2,\"#de77ae\"],[0.3,\"#f1b6da\"],[0.4,\"#fde0ef\"],[0.5,\"#f7f7f7\"],[0.6,\"#e6f5d0\"],[0.7,\"#b8e186\"],[0.8,\"#7fbc41\"],[0.9,\"#4d9221\"],[1,\"#276419\"]],\"sequential\":[[0.0,\"#0d0887\"],[0.1111111111111111,\"#46039f\"],[0.2222222222222222,\"#7201a8\"],[0.3333333333333333,\"#9c179e\"],[0.4444444444444444,\"#bd3786\"],[0.5555555555555556,\"#d8576b\"],[0.6666666666666666,\"#ed7953\"],[0.7777777777777778,\"#fb9f3a\"],[0.8888888888888888,\"#fdca26\"],[1.0,\"#f0f921\"]],\"sequentialminus\":[[0.0,\"#0d0887\"],[0.1111111111111111,\"#46039f\"],[0.2222222222222222,\"#7201a8\"],[0.3333333333333333,\"#9c179e\"],[0.4444444444444444,\"#bd3786\"],[0.5555555555555556,\"#d8576b\"],[0.6666666666666666,\"#ed7953\"],[0.7777777777777778,\"#fb9f3a\"],[0.8888888888888888,\"#fdca26\"],[1.0,\"#f0f921\"]]},\"colorway\":[\"#636efa\",\"#EF553B\",\"#00cc96\",\"#ab63fa\",\"#FFA15A\",\"#19d3f3\",\"#FF6692\",\"#B6E880\",\"#FF97FF\",\"#FECB52\"],\"font\":{\"color\":\"#2a3f5f\"},\"geo\":{\"bgcolor\":\"white\",\"lakecolor\":\"white\",\"landcolor\":\"white\",\"showlakes\":true,\"showland\":true,\"subunitcolor\":\"#C8D4E3\"},\"hoverlabel\":{\"align\":\"left\"},\"hovermode\":\"closest\",\"mapbox\":{\"style\":\"light\"},\"paper_bgcolor\":\"white\",\"plot_bgcolor\":\"white\",\"polar\":{\"angularaxis\":{\"gridcolor\":\"#EBF0F8\",\"linecolor\":\"#EBF0F8\",\"ticks\":\"\"},\"bgcolor\":\"white\",\"radialaxis\":{\"gridcolor\":\"#EBF0F8\",\"linecolor\":\"#EBF0F8\",\"ticks\":\"\"}},\"scene\":{\"xaxis\":{\"backgroundcolor\":\"white\",\"gridcolor\":\"#DFE8F3\",\"gridwidth\":2,\"linecolor\":\"#EBF0F8\",\"showbackground\":true,\"ticks\":\"\",\"zerolinecolor\":\"#EBF0F8\"},\"yaxis\":{\"backgroundcolor\":\"white\",\"gridcolor\":\"#DFE8F3\",\"gridwidth\":2,\"linecolor\":\"#EBF0F8\",\"showbackground\":true,\"ticks\":\"\",\"zerolinecolor\":\"#EBF0F8\"},\"zaxis\":{\"backgroundcolor\":\"white\",\"gridcolor\":\"#DFE8F3\",\"gridwidth\":2,\"linecolor\":\"#EBF0F8\",\"showbackground\":true,\"ticks\":\"\",\"zerolinecolor\":\"#EBF0F8\"}},\"shapedefaults\":{\"line\":{\"color\":\"#2a3f5f\"}},\"ternary\":{\"aaxis\":{\"gridcolor\":\"#DFE8F3\",\"linecolor\":\"#A2B1C6\",\"ticks\":\"\"},\"baxis\":{\"gridcolor\":\"#DFE8F3\",\"linecolor\":\"#A2B1C6\",\"ticks\":\"\"},\"bgcolor\":\"white\",\"caxis\":{\"gridcolor\":\"#DFE8F3\",\"linecolor\":\"#A2B1C6\",\"ticks\":\"\"}},\"title\":{\"x\":0.05},\"xaxis\":{\"automargin\":true,\"gridcolor\":\"#EBF0F8\",\"linecolor\":\"#EBF0F8\",\"ticks\":\"\",\"title\":{\"standoff\":15},\"zerolinecolor\":\"#EBF0F8\",\"zerolinewidth\":2},\"yaxis\":{\"automargin\":true,\"gridcolor\":\"#EBF0F8\",\"linecolor\":\"#EBF0F8\",\"ticks\":\"\",\"title\":{\"standoff\":15},\"zerolinecolor\":\"#EBF0F8\",\"zerolinewidth\":2}}},\"title\":{\"text\":\"Synergistic Model: Literacy * Wealth\"},\"xaxis\":{\"title\":{\"text\":\"Literacy\"}},\"yaxis\":{\"title\":{\"text\":\"Probability of Lottery Participation\"}}},                        {\"responsive\": true}                    ).then(function(){\n",
       "                            \n",
       "var gd = document.getElementById('4372d2b6-07de-48d0-b628-a7c4172f9c41');\n",
       "var x = new MutationObserver(function (mutations, observer) {{\n",
       "        var display = window.getComputedStyle(gd).display;\n",
       "        if (!display || display === 'none') {{\n",
       "            console.log([gd, 'removed!']);\n",
       "            Plotly.purge(gd);\n",
       "            observer.disconnect();\n",
       "        }}\n",
       "}});\n",
       "\n",
       "// Listen for the removal of the full notebook cells\n",
       "var notebookContainer = gd.closest('#notebook-container');\n",
       "if (notebookContainer) {{\n",
       "    x.observe(notebookContainer, {childList: true});\n",
       "}}\n",
       "\n",
       "// Listen for the clearing of the current output cell\n",
       "var outputEl = gd.closest('.output');\n",
       "if (outputEl) {{\n",
       "    x.observe(outputEl, {childList: true});\n",
       "}}\n",
       "\n",
       "                        })                };                });            </script>        </div>"
      ]
     },
     "metadata": {},
     "output_type": "display_data"
    }
   ],
   "source": [
    "import pandas as pd\n",
    "import statsmodels.formula.api as smf\n",
    "import numpy as np\n",
    "import plotly.graph_objects as go\n",
    "\n",
    "# Load dataset\n",
    "df = sm.datasets.get_rdataset(\"Guerry\", \"HistData\").data\n",
    "df = df[['Lottery', 'Literacy', 'Wealth', 'Region']].dropna()\n",
    "\n",
    "# Convert 'Lottery' to binary for logistic regression\n",
    "df['Lottery_binary'] = (df['Lottery'] > df['Lottery'].median()).astype(int)\n",
    "\n",
    "# Additive model (no interaction)\n",
    "additive_model = smf.logit('Lottery_binary ~ Literacy + Wealth', data=df).fit()\n",
    "\n",
    "# Create a smooth range of 'Literacy' for prediction\n",
    "literacy_range = np.linspace(df['Literacy'].min(), df['Literacy'].max(), 100)\n",
    "wealth_mean = df['Wealth'].mean()  # Use the mean value for 'Wealth'\n",
    "\n",
    "# Predict using the additive model (fixed Wealth)\n",
    "additive_pred = additive_model.predict(pd.DataFrame({'Literacy': literacy_range, 'Wealth': [wealth_mean] * 100}))\n",
    "\n",
    "# Synergistic model (with interaction between Literacy and Wealth)\n",
    "synergistic_model = smf.logit('Lottery_binary ~ Literacy * Wealth', data=df).fit()\n",
    "\n",
    "# Predict using the synergistic model\n",
    "synergistic_pred = synergistic_model.predict(pd.DataFrame({'Literacy': literacy_range, 'Wealth': [wealth_mean] * 100}))\n",
    "\n",
    "# Plot additive model predictions\n",
    "fig_additive = go.Figure()\n",
    "\n",
    "# Add scatter plot for actual data\n",
    "fig_additive.add_trace(go.Scatter(x=df['Literacy'], y=df['Lottery_binary'], mode='markers', name='Data', marker=dict(color='blue')))\n",
    "\n",
    "# Add line for additive predictions\n",
    "fig_additive.add_trace(go.Scatter(x=literacy_range, y=additive_pred, mode='lines', name='Additive Best Fit Line', line=dict(color='red')))\n",
    "\n",
    "# Add titles and labels\n",
    "fig_additive.update_layout(\n",
    "    title=\"Additive Model: Literacy + Wealth\",\n",
    "    xaxis_title=\"Literacy\",\n",
    "    yaxis_title=\"Probability of Lottery Participation\",\n",
    "    template=\"plotly_white\"\n",
    ")\n",
    "\n",
    "# Plot synergistic model predictions\n",
    "fig_synergistic = go.Figure()\n",
    "\n",
    "# Add scatter plot for actual data\n",
    "fig_synergistic.add_trace(go.Scatter(x=df['Literacy'], y=df['Lottery_binary'], mode='markers', name='Data', marker=dict(color='blue')))\n",
    "\n",
    "# Add line for synergistic predictions\n",
    "fig_synergistic.add_trace(go.Scatter(x=literacy_range, y=synergistic_pred, mode='lines', name='Synergistic Best Fit Line', line=dict(color='green')))\n",
    "\n",
    "# Add titles and labels\n",
    "fig_synergistic.update_layout(\n",
    "    title=\"Synergistic Model: Literacy * Wealth\",\n",
    "    xaxis_title=\"Literacy\",\n",
    "    yaxis_title=\"Probability of Lottery Participation\",\n",
    "    template=\"plotly_white\"\n",
    ")\n",
    "\n",
    "# Display the figures\n",
    "fig_additive.show()\n",
    "fig_synergistic.show()\n"
   ]
  },
  {
   "cell_type": "markdown",
   "id": "82f55f0a",
   "metadata": {},
   "source": [
    "3.5 comparing the two plots can determine if the interaction term meaningfully changes the fit. If the synergistic model’s fit significantly diverges from the additive model, this suggests the interaction is necessary to capture relationships in the data accurately."
   ]
  },
  {
   "cell_type": "markdown",
   "id": "bab27223",
   "metadata": {},
   "source": [
    "### Sure! Here’s a summary of our conversation (question 3):\n",
    "\n",
    "1. **Logistic Regression Interpretation**: We discussed how to interpret logistic regression models by treating them similarly to linear regression. Each coefficient in the logistic regression indicates how a predictor affects the log odds of the outcome. We emphasized using p-values, coefficients, standard errors, and confidence intervals to assess the significance and precision of each predictor.\n",
    "\n",
    "2. **Statistical Evidence**: We talked about interpreting the statistical evidence in the model summary, such as the p-values (to assess statistical significance), coefficients (to understand the direction and strength of relationships), and standard errors (to gauge uncertainty). The overall goal is to determine which predictors meaningfully affect the outcome.\n",
    "\n",
    "3. **Plotly Visualization**: I provided a way to visualize the data with Plotly using two different model specifications: one additive (no interaction) and one synergistic (with interaction between predictors). We refined the visualization by ensuring a smoother and clearer display of the best-fit lines, allowing for easy comparison of the two models.\n",
    "\n",
    "4. **Comment on Interaction Term**: The final point was about assessing the necessity of an interaction term. By comparing the additive and synergistic model plots, you can visually determine whether the interaction significantly improves the model’s fit. If both models show similar trends, the interaction term may not be necessary.\n",
    "\n",
    "In short, we covered how to interpret logistic regression, assess statistical significance, and visualize the models, leading to a better understanding of when and why to include interaction terms in your analysis.\n",
    "\n",
    "https://chatgpt.com/share/6736c97a-34b8-800e-9744-2a59bcf92686"
   ]
  },
  {
   "cell_type": "markdown",
   "id": "1958118d",
   "metadata": {},
   "source": [
    "#### Question 4:\n",
    "\n",
    "this contradiction between the factual statements occurs as there are more than one possible reasons for this scenario as the two statements reflect different perspectives, one on the overall fit of the model, and the other on the significance of individual predictors. \n",
    "\n",
    "first, the model might be missing key variables or relationships that could better explain the data. It could be a case where the predictors included are highly relevant, but other factors are influencing the dependent variable in ways that are not captured by the model.\n",
    "\n",
    "Some data points might have an outsized influence on the model’s coefficients. If these points are influential, the model might give strong results for some coefficients even though it doesn’t fit the overall data well. but because data points are outside it's unclear for coefficients.\n",
    "\n",
    "lastly, if the predictors are highly correlated with each other, the model might be explaining some of the variability through a small set of variables, but still fail to account for broader patterns in the data."
   ]
  },
  {
   "cell_type": "markdown",
   "id": "9a958a34",
   "metadata": {},
   "source": [
    "### Sure! Here’s a summary of our conversation (question 4):\n",
    "\n",
    "You asked about the apparent contradiction between two statements regarding a statistical model:\n",
    "1. \"The model only explains 17.6% of the variability in the data\" (referring to a low R-squared value).\n",
    "2. \"Many of the coefficients are larger than 10 with strong evidence against the null hypothesis of 'no effect'\" (referring to significant coefficients).\n",
    "\n",
    "I explained that these statements focus on different aspects:\n",
    "- The low R-squared value suggests that the model doesn’t explain much of the variability in the data overall.\n",
    "- The significant coefficients indicate that certain predictors have a strong, meaningful relationship with the outcome, even if the model doesn’t explain much variability.\n",
    "\n",
    "The contradiction can occur due to reasons like underfitting, influential data points, or multicollinearity, where the predictors are significant but the overall model doesn’t explain the data well.\n",
    "\n",
    "https://chatgpt.com/share/6736cbfd-ac48-800e-923d-c1b42d55fdfa"
   ]
  },
  {
   "cell_type": "markdown",
   "id": "7ecb5004",
   "metadata": {},
   "source": [
    "#### Question 5:\n",
    "\n",
    "first cell: calculated as half the total number of rows in the pokeaman dataset using fifty_fifty_split_size, and finding missing values (NaN) in the \"Type 2\" column are replaced with the string 'None'. The dataset is then split into two halves, pokeaman_train (training set) and pokeaman_test (test set), using train_test_split.\n",
    "\n",
    "second cell: in this cell a linear regression model (ordinary least squares, OLS) is specified using the statsmodels.formula.api (likely imported as smf). The formula 'HP ~ Attack + Defense' means that the dependent variable (HP) is being predicted by the independent variables (Attack and Defense). The model is then fit to the training data (pokeaman_train), and the summary() method displays various statistical measures about the fitted model, such as the coefficients, R-squared value, and p-values.\n",
    "\n",
    "third cell: In this cell, predictions are made for the pokeaman_test dataset using the model3_fit (the previously fitted model). y = pokeaman_test.HP mean the actual HP values from the test set (pokeaman_test.HP), which will be used to calculate the model's out-of-sample performance.\n",
    "\n",
    "forth cell: The model specification here is more complex than in the second cell. The formula 'HP ~ Attack * Defense * Speed * Legendary * Q(\"Sp. Def\") * Q(\"Sp. Atk\")' includes interaction terms for various features (Attack, Defense, Speed, Legendary, etc.). The Q() function indicates that certain column names contain spaces, and interaction terms (*) represent combinations of those variables. The cell also prints the R-squared values:\n",
    "'In sample' R-squared for model3_fit (from the second cell).\n",
    "'Out of sample' R-squared is computed by comparing the predicted values (yhat_model3) with the actual values (y) from the test set. This measures how well the model generalizes to unseen data.\n",
    "\n",
    "fifth cell: in final cell, predictions are made using model4_fit on the test data (pokeaman_test), and yhat_model4 contains the predicted HP values. The actual HP values from the test set are again stored in y. The In-sample R-squared is printed for model4_fit, which reflects how well the model fits the training data. The Out-of-sample R-squared is calculated by comparing yhat_model4 with the actual HP values (y) from the test set. This provides an indication of how well the model generalizes to unseen data.\n",
    "\n",
    "the code compares two different models, one simpler (model3) and one more complex (model4) by split into a training set and a test set to evaluate model performance. For both models, R-squared values are calculated for both the training (in-sample) and test (out-of-sample) datasets."
   ]
  },
  {
   "cell_type": "markdown",
   "id": "2a251b2e",
   "metadata": {},
   "source": [
    "### Certainly! Here's a summary of our conversation (question 5):\n",
    "\n",
    "- **Code Explanation:** We discussed a sequence of code that involves training and evaluating two regression models using a dataset (likely related to Pokémon attributes). The models are compared based on their performance in predicting HP values, with one model being simpler (`model3`) and the other more complex (`model4`).\n",
    "\n",
    "- **Key Steps in the Code:**\n",
    "  1. **Data Preparation:** The dataset is split into training and test sets. Missing values in the dataset are handled by replacing them with `'None'`.\n",
    "  2. **Model Specification and Fitting:** Two regression models are defined using the `statsmodels` library. The simpler model (`model3`) uses `Attack` and `Defense` as predictors, while the more complex model (`model4`) includes interaction terms for multiple features.\n",
    "  3. **Evaluation:** For both models, R-squared values are calculated for both the training (in-sample) and test (out-of-sample) sets to assess how well the models fit and generalize to unseen data.\n",
    "\n",
    "- **Purpose of the Code:** The code illustrates how to:\n",
    "  - Compare different models based on their complexity and feature selection.\n",
    "  - Evaluate model performance using both in-sample and out-of-sample data.\n",
    "  - Handle categorical variables and interaction terms in regression models.\n",
    "\n",
    "- **Main Takeaways:**\n",
    "  - **In-sample R-squared** reflects the model's fit to the training data.\n",
    "  - **Out-of-sample R-squared** shows the model's ability to generalize to unseen data.\n",
    "  - More complex models may capture more features and interactions, but they could also lead to overfitting or computational challenges.\n",
    "\n",
    "If you need any further details or clarifications, feel free to ask!\n",
    "https://chatgpt.com/share/6736cea6-6ba0-800e-90e3-739cfb8c2199\n"
   ]
  },
  {
   "cell_type": "markdown",
   "id": "cf284806",
   "metadata": {},
   "source": [
    "#### Question 6:\n",
    "\n",
    "Predictor variables are transformed using centering and scaling to standardize them and reduce numerical issues. However, when complex interactions are introduced, the correlation among predictors can increase, leading to multicollinearity.\n",
    "Multicollinearity is problematic because it increases the condition number, making the design matrix ill-conditioned. This can result in unstable coefficient estimates and poor generalization to new data.\n",
    "Out-of-sample generalization suffers because the model is overfitting the training data, making it sensitive to noise and unable to predict unseen data effectively."
   ]
  },
  {
   "cell_type": "markdown",
   "id": "377f86cf",
   "metadata": {},
   "source": [
    "### Certainly! Here's a summary of our conversation (question 6):\n",
    "\n",
    "You provided code that demonstrates how centering and scaling predictor variables in a linear regression model can address multicollinearity. The main points are:\n",
    "\n",
    "1. **Design Matrix**: The design matrix contains the predictor variables used to predict the outcome variable. Centering and scaling standardize these variables, potentially reducing multicollinearity.\n",
    "   \n",
    "2. **Multicollinearity**: High multicollinearity, indicated by a high condition number, makes the model unstable. Even after centering and scaling, adding complex interaction terms increases the condition number and multicollinearity.\n",
    "\n",
    "3. **Impact on Generalization**: Multicollinearity leads to overfitting, where the model fits the training data well but performs poorly on new, unseen data (poor out-of-sample generalization). This instability in the model arises from the high condition number.\n",
    "\n",
    "In essence, while centering and scaling help, introducing interactions among predictors can worsen multicollinearity, making the model less generalizable to new data.\n",
    "\n",
    "https://chatgpt.com/share/6736d11f-8e40-800e-91cc-bd8f4ded2605"
   ]
  },
  {
   "cell_type": "markdown",
   "id": "34a5c14b",
   "metadata": {},
   "source": [
    "#### Question 7: \n",
    "\n",
    "model5_linear_form: This model builds upon model3_fit and model4_fit by including a broader set of features. The model 5 incorporates variable from both model3 and 4 such as Attack, Defense, Speed, and Legendary, as well as categorical variables such as Generation and Type 1/Type 2.\n",
    "\n",
    "model6_linear_form: The development of model6_linear_form extends from model5 by focus on only significant predictor sich as type 1 and generation by simplifying and reducing the number of features. the model 6 removed variables like Defense and Legendary. Additionally, it introduces indicator variables for specific Type 1 categories and specific Generation values. \n",
    "\n",
    "model7_linear_form: model7_linear_form extends model6_linear_form by adding interaction terms between Attack, Speed, Sp. Def, and Sp. Atk.\n",
    "\n",
    "\n",
    "model7_linear_form_CS: enhances model7 by centering and scaling the continuous variables, improving numerical stability and reducing collinearity. It is important to note that categorical variables, like Type 1 and Generation, are not centered or scaled, as this would distort their interpretation. This model represents an enhancement in terms of numerical stability, potentially leading to better model performance."
   ]
  },
  {
   "cell_type": "markdown",
   "id": "e9264bd9",
   "metadata": {},
   "source": [
    "### Here's a summary of our conversation (question 7):\n",
    "\n",
    "We discussed the development and extension of a series of linear regression models, where each new model builds on the previous one by adding complexity and refinement:\n",
    "\n",
    "1. **model5_linear_form**: Expands the predictor set, including both continuous and categorical variables, allowing for a more comprehensive prediction of the target variable, `HP`.\n",
    "2. **model6_linear_form**: Simplifies **model5** by retaining only significant variables, adding categorical indicators for specific types and generations.\n",
    "3. **model7_linear_form**: Further extends **model6** by introducing interaction terms between key predictors to capture complex relationships.\n",
    "4. **model7_linear_form_CS**: Enhances **model7** with centering and scaling of continuous variables to improve numerical stability and reduce multicollinearity, while keeping categorical variables unchanged.\n",
    "\n",
    "This progression reflects an ongoing effort to improve model accuracy, stability, and interpretability.\n",
    "\n",
    "https://chatgpt.com/share/6736d31f-b178-800e-9f78-0a7ce0149269"
   ]
  },
  {
   "cell_type": "markdown",
   "id": "feb11a2b",
   "metadata": {},
   "source": [
    "#### question 8:\n",
    "\n",
    "Interpretation of the Results:\n",
    "In-Sample vs. Out-of-Sample Distribution: If the points cluster close to the line y = x, the model is consistent in its performance on both training and testing data. This suggests that the model generalizes well and is not overfitting.\n",
    "Variation: If the points scatter widely from the line, it could indicate that the model’s performance varies significantly between the training and testing sets. This may signal issues such as overfitting (where the model performs well on training data but poorly on testing data) or underfitting (where the model performs poorly on both).\n"
   ]
  },
  {
   "cell_type": "markdown",
   "id": "768d04f4",
   "metadata": {},
   "source": [
    "### Certainly! Here's a summary of our conversation (question 8):\n",
    "\n",
    "\n",
    "In this conversation, you shared a Python code snippet that demonstrates how to assess the performance of a linear regression model by comparing its in-sample and out-of-sample R² values over 100 iterations. The code uses a training-testing data split and evaluates the model using `train_test_split` and `statsmodels` for fitting the model, followed by performance evaluation through R².\n",
    "\n",
    "We discussed the purpose of the demonstration:\n",
    "- To compare in-sample (training data) and out-of-sample (testing data) performance.\n",
    "- To examine the model's consistency and generalizability across different data splits.\n",
    "- To visualize the relationship between in-sample and out-of-sample R² using a scatter plot.\n",
    "\n",
    "You were aiming to understand how these performance metrics help evaluate model stability and robustness, with the scatter plot serving to visualize how well the model generalizes.\n",
    "\n",
    "https://chatgpt.com/share/6736d3eb-7540-800e-b33a-bc65c4bc4f89\n"
   ]
  },
  {
   "cell_type": "markdown",
   "id": "206b2e31",
   "metadata": {},
   "source": [
    "#### question 9: \n",
    "\n",
    "The models (model7 and model6) are trained on different subsets of the pokeaman data based on Pokémon generation:\n",
    "\n",
    "For Generation 1: The model is fit using Pokémon from this generation, and predictions are made for all other generations.\n",
    "For Generations 1 to 5: The model is trained on data from Pokémon of generations 1 to 5 and tested on generation 6.\n",
    "\n",
    "model7 and model6 appear to be different OLS models that you're comparing for their predictive ability.\n",
    "The data subsets being used in each case are defined by the pokeaman.Generation field, which is used to filter the dataset.\n",
    "\n",
    "model7_gen1_predict_future: Fit the model using only Generation 1 data.\n",
    "model7_gen1to5_predict_future: Fit the model using data from Generations 1 through 5, and predict outcomes for Generation 6.\n",
    "This pattern is repeated for model6."
   ]
  },
  {
   "cell_type": "markdown",
   "id": "6c6d16d2",
   "metadata": {},
   "source": [
    "### chatbot convo\n",
    "\n",
    "In our conversation, you shared a Python script that uses Ordinary Least Squares (OLS) regression models (`model7` and `model6`) to analyze Pokémon data from different generations, specifically focusing on the `HP` attribute. The script compares the \"in-sample\" and \"out-of-sample\" R-squared values for both models across different subsets of the data. These subsets include:\n",
    "1. **Generation 1**: Models are trained using only Generation 1 data.\n",
    "2. **Generations 1 to 5**: Models are trained using data from Generations 1 to 5 and tested on Generation 6.\n",
    "\n",
    "The goal is to evaluate how well the models fit the data they were trained on (in-sample) and how well they predict new data from unseen generations (out-of-sample).\n",
    "\n",
    "https://chatgpt.com/share/6736d472-1290-800e-8568-af3dd3c55b47\n"
   ]
  }
 ],
 "metadata": {
  "kernelspec": {
   "display_name": "Python 3 (ipykernel)",
   "language": "python",
   "name": "python3"
  },
  "language_info": {
   "codemirror_mode": {
    "name": "ipython",
    "version": 3
   },
   "file_extension": ".py",
   "mimetype": "text/x-python",
   "name": "python",
   "nbconvert_exporter": "python",
   "pygments_lexer": "ipython3",
   "version": "3.11.6"
  }
 },
 "nbformat": 4,
 "nbformat_minor": 5
}
